{
  "nbformat": 4,
  "nbformat_minor": 0,
  "metadata": {
    "colab": {
      "provenance": [],
      "machine_shape": "hm"
    },
    "kernelspec": {
      "name": "python3",
      "display_name": "Python 3"
    },
    "language_info": {
      "name": "python"
    },
    "accelerator": "GPU",
    "gpuClass": "premium"
  },
  "cells": [
    {
      "cell_type": "code",
      "source": [
        "# !sudo apt-get install -y fonts-nanum\n",
        "# !sudo fc-cache -fv\n",
        "# !rm ~/.cache/matplotlib -rf"
      ],
      "metadata": {
        "colab": {
          "base_uri": "https://localhost:8080/"
        },
        "id": "zVLMEpa9v3YN",
        "outputId": "aa46842f-2971-4d12-a237-4368f1418e9f"
      },
      "execution_count": null,
      "outputs": [
        {
          "output_type": "stream",
          "name": "stdout",
          "text": [
            "Reading package lists... Done\n",
            "Building dependency tree       \n",
            "Reading state information... Done\n",
            "The following NEW packages will be installed:\n",
            "  fonts-nanum\n",
            "0 upgraded, 1 newly installed, 0 to remove and 23 not upgraded.\n",
            "Need to get 9,599 kB of archives.\n",
            "After this operation, 29.6 MB of additional disk space will be used.\n",
            "Get:1 http://archive.ubuntu.com/ubuntu focal/universe amd64 fonts-nanum all 20180306-3 [9,599 kB]\n",
            "Fetched 9,599 kB in 2s (5,194 kB/s)\n",
            "debconf: unable to initialize frontend: Dialog\n",
            "debconf: (No usable dialog-like program is installed, so the dialog based frontend cannot be used. at /usr/share/perl5/Debconf/FrontEnd/Dialog.pm line 76, <> line 1.)\n",
            "debconf: falling back to frontend: Readline\n",
            "debconf: unable to initialize frontend: Readline\n",
            "debconf: (This frontend requires a controlling tty.)\n",
            "debconf: falling back to frontend: Teletype\n",
            "dpkg-preconfigure: unable to re-open stdin: \n",
            "Selecting previously unselected package fonts-nanum.\n",
            "(Reading database ... 129504 files and directories currently installed.)\n",
            "Preparing to unpack .../fonts-nanum_20180306-3_all.deb ...\n",
            "Unpacking fonts-nanum (20180306-3) ...\n",
            "Setting up fonts-nanum (20180306-3) ...\n",
            "Processing triggers for fontconfig (2.13.1-2ubuntu3) ...\n",
            "/usr/share/fonts: caching, new cache contents: 0 fonts, 1 dirs\n",
            "/usr/share/fonts/truetype: caching, new cache contents: 0 fonts, 3 dirs\n",
            "/usr/share/fonts/truetype/humor-sans: caching, new cache contents: 1 fonts, 0 dirs\n",
            "/usr/share/fonts/truetype/liberation: caching, new cache contents: 16 fonts, 0 dirs\n",
            "/usr/share/fonts/truetype/nanum: caching, new cache contents: 10 fonts, 0 dirs\n",
            "/usr/local/share/fonts: caching, new cache contents: 0 fonts, 0 dirs\n",
            "/root/.local/share/fonts: skipping, no such directory\n",
            "/root/.fonts: skipping, no such directory\n",
            "/usr/share/fonts/truetype: skipping, looped directory detected\n",
            "/usr/share/fonts/truetype/humor-sans: skipping, looped directory detected\n",
            "/usr/share/fonts/truetype/liberation: skipping, looped directory detected\n",
            "/usr/share/fonts/truetype/nanum: skipping, looped directory detected\n",
            "/var/cache/fontconfig: cleaning cache directory\n",
            "/root/.cache/fontconfig: not cleaning non-existent cache directory\n",
            "/root/.fontconfig: not cleaning non-existent cache directory\n",
            "fc-cache: succeeded\n"
          ]
        }
      ]
    },
    {
      "cell_type": "markdown",
      "source": [
        "### svd 연습하기"
      ],
      "metadata": {
        "id": "gqMVYogMiuFi"
      }
    },
    {
      "cell_type": "markdown",
      "source": [
        "출처 : https://bkshin.tistory.com/entry/%EB%A8%B8%EC%8B%A0%EB%9F%AC%EB%8B%9D-20-%ED%8A%B9%EC%9D%B4%EA%B0%92-%EB%B6%84%ED%95%B4Singular-Value-Decomposition"
      ],
      "metadata": {
        "id": "VymLFmOdkNtP"
      }
    },
    {
      "cell_type": "code",
      "execution_count": null,
      "metadata": {
        "id": "SDS2gszziLOo",
        "colab": {
          "base_uri": "https://localhost:8080/"
        },
        "outputId": "65d65e81-195e-40d3-cd6a-386c915dcc46"
      },
      "outputs": [
        {
          "output_type": "stream",
          "name": "stdout",
          "text": [
            "[[-0.212 -0.285 -0.574 -0.44 ]\n",
            " [-0.33   1.184  1.615  0.367]\n",
            " [-0.014  0.63   1.71  -1.327]\n",
            " [ 0.402 -0.191  1.404 -1.969]]\n"
          ]
        }
      ],
      "source": [
        "# numpy의 svd 모듈 import\n",
        "import numpy as np\n",
        "from numpy.linalg import svd\n",
        "\n",
        "# 4X4 Random 행렬 a 생성 \n",
        "np.random.seed(121)\n",
        "a = np.random.randn(4,4)\n",
        "print(np.round(a, 3))"
      ]
    },
    {
      "cell_type": "code",
      "source": [
        "U, Sigma, Vt = svd(a)\n",
        "print(U.shape, Sigma.shape, Vt.shape)\n",
        "print('U matrix:\\n',np.round(U, 3))\n",
        "print('Sigma Value:\\n',np.round(Sigma, 3))\n",
        "print('V transpose matrix:\\n',np.round(Vt, 3))"
      ],
      "metadata": {
        "colab": {
          "base_uri": "https://localhost:8080/"
        },
        "id": "c19wRW6fjPBR",
        "outputId": "3cc3a704-0547-4d80-c18a-e80516340857"
      },
      "execution_count": null,
      "outputs": [
        {
          "output_type": "stream",
          "name": "stdout",
          "text": [
            "(4, 4) (4,) (4, 4)\n",
            "U matrix:\n",
            " [[-0.079 -0.318  0.867  0.376]\n",
            " [ 0.383  0.787  0.12   0.469]\n",
            " [ 0.656  0.022  0.357 -0.664]\n",
            " [ 0.645 -0.529 -0.328  0.444]]\n",
            "Sigma Value:\n",
            " [3.423 2.023 0.463 0.079]\n",
            "V transpose matrix:\n",
            " [[ 0.041  0.224  0.786 -0.574]\n",
            " [-0.2    0.562  0.37   0.712]\n",
            " [-0.778  0.395 -0.333 -0.357]\n",
            " [-0.593 -0.692  0.366  0.189]]\n"
          ]
        }
      ]
    },
    {
      "cell_type": "code",
      "source": [
        "import numpy as np\n",
        "from scipy.sparse.linalg import svds\n",
        "from scipy.linalg import svd\n",
        "\n",
        "# 원본 행렬을 출력하고, SVD를 적용할 경우 U, Sigma, Vt 의 차원 확인 \n",
        "np.random.seed(121)\n",
        "matrix = np.random.random((6, 6))\n",
        "print('원본 행렬:\\n',matrix)\n",
        "U, Sigma, Vt = svd(matrix, full_matrices=False)\n",
        "print('\\n분해 행렬 차원:',U.shape, Sigma.shape, Vt.shape)\n",
        "print('\\nSigma값 행렬:', Sigma)\n",
        "\n",
        "# Truncated SVD로 Sigma 행렬의 특이값을 4개로 하여 Truncated SVD 수행. \n",
        "num_components = 4\n",
        "U_tr, Sigma_tr, Vt_tr = svds(matrix, k=num_components)\n",
        "print('\\nTruncated SVD 분해 행렬 차원:',U_tr.shape, Sigma_tr.shape, Vt_tr.shape)\n",
        "print('\\nTruncated SVD Sigma값 행렬:', Sigma_tr)\n",
        "matrix_tr = np.dot(np.dot(U_tr,np.diag(Sigma_tr)), Vt_tr)  # output of TruncatedSVD\n",
        "\n",
        "print('\\nTruncated SVD로 분해 후 복원 행렬:\\n', matrix_tr)\n",
        "\n"
      ],
      "metadata": {
        "colab": {
          "base_uri": "https://localhost:8080/"
        },
        "id": "KATurY4AkIyR",
        "outputId": "04154c92-51cb-4af5-cbad-2ec7714c7aab"
      },
      "execution_count": null,
      "outputs": [
        {
          "output_type": "stream",
          "name": "stdout",
          "text": [
            "원본 행렬:\n",
            " [[0.11133083 0.21076757 0.23296249 0.15194456 0.83017814 0.40791941]\n",
            " [0.5557906  0.74552394 0.24849976 0.9686594  0.95268418 0.48984885]\n",
            " [0.01829731 0.85760612 0.40493829 0.62247394 0.29537149 0.92958852]\n",
            " [0.4056155  0.56730065 0.24575605 0.22573721 0.03827786 0.58098021]\n",
            " [0.82925331 0.77326256 0.94693849 0.73632338 0.67328275 0.74517176]\n",
            " [0.51161442 0.46920965 0.6439515  0.82081228 0.14548493 0.01806415]]\n",
            "\n",
            "분해 행렬 차원: (6, 6) (6,) (6, 6)\n",
            "\n",
            "Sigma값 행렬: [3.2535007  0.88116505 0.83865238 0.55463089 0.35834824 0.0349925 ]\n",
            "\n",
            "Truncated SVD 분해 행렬 차원: (6, 4) (4,) (4, 6)\n",
            "\n",
            "Truncated SVD Sigma값 행렬: [0.55463089 0.83865238 0.88116505 3.2535007 ]\n",
            "\n",
            "Truncated SVD로 분해 후 복원 행렬:\n",
            " [[0.19222941 0.21792946 0.15951023 0.14084013 0.81641405 0.42533093]\n",
            " [0.44874275 0.72204422 0.34594106 0.99148577 0.96866325 0.4754868 ]\n",
            " [0.12656662 0.88860729 0.30625735 0.59517439 0.28036734 0.93961948]\n",
            " [0.23989012 0.51026588 0.39697353 0.27308905 0.05971563 0.57156395]\n",
            " [0.83806144 0.78847467 0.93868685 0.72673231 0.6740867  0.73812389]\n",
            " [0.59726589 0.47953891 0.56613544 0.80746028 0.13135039 0.03479656]]\n"
          ]
        }
      ]
    },
    {
      "cell_type": "markdown",
      "source": [
        "### 유클라디안 거리를 이용한 유사도 구하기"
      ],
      "metadata": {
        "id": "8LlWNqR0pTCU"
      }
    },
    {
      "cell_type": "code",
      "source": [
        "critics={\n",
        "     'hhd':{'guardians of the galaxy 2':5,'christmas in august':4,'boss baby':1.5},\n",
        "     'chs':{'christmas in august':5,'boss baby':2},\n",
        "     'kmh':{'guardians of the galaxy 2':2.5,'christmas in august':2,'boss baby':1},\n",
        "     'leb':{'guardians of the galaxy 2':3.5,'christmas in august':4,'boss baby':5}\n",
        "}"
      ],
      "metadata": {
        "id": "PprYhbWvpdiA"
      },
      "execution_count": null,
      "outputs": []
    },
    {
      "cell_type": "code",
      "source": [
        "from math import sqrt\n",
        "\n",
        "def sim_distance(data, name1, name2):\n",
        "    sum=0\n",
        "    for i in data[name1]:\n",
        "        if i in data[name2]: #같은 영화를 봤다면\n",
        "            sum+=pow(data[name1][i]- data[name2][i],2)\n",
        "        \n",
        "    return 1/(1+sqrt(sum))"
      ],
      "metadata": {
        "id": "wPekwbFEpYCT"
      },
      "execution_count": null,
      "outputs": []
    },
    {
      "cell_type": "code",
      "source": [
        "sim_distance(critics, 'chs','leb')"
      ],
      "metadata": {
        "colab": {
          "base_uri": "https://localhost:8080/"
        },
        "id": "FMASycc_qIZx",
        "outputId": "f5425f0f-4b4e-4bfc-db18-e4eb04c041cd"
      },
      "execution_count": null,
      "outputs": [
        {
          "output_type": "execute_result",
          "data": {
            "text/plain": [
              "0.2402530733520421"
            ]
          },
          "metadata": {},
          "execution_count": 7
        }
      ]
    },
    {
      "cell_type": "code",
      "source": [
        "def top_match(data, name, index=3, sim_function=sim_distance):\n",
        "    li=[]\n",
        "    for i in data:\n",
        "        if name!=i: #자기 자신은 제외한다\n",
        "            li.append((sim_function(data,name,i),i)) # 유사도, 이름을 튜플에 묶어 리스트에 추가한다\n",
        "    li.sort() #오름차순 정렬\n",
        "    li.reverse() #내림차순 정렬\n",
        "    \n",
        "    return li[:index]\n"
      ],
      "metadata": {
        "id": "VSc51m8cqcdC"
      },
      "execution_count": null,
      "outputs": []
    },
    {
      "cell_type": "code",
      "source": [
        "top_match(critics, 'chs')"
      ],
      "metadata": {
        "colab": {
          "base_uri": "https://localhost:8080/"
        },
        "id": "BNyfLj1yqeon",
        "outputId": "1bd9bdd5-9b25-44b9-82d5-04f76f1a7733"
      },
      "execution_count": null,
      "outputs": [
        {
          "output_type": "execute_result",
          "data": {
            "text/plain": [
              "[(0.4721359549995794, 'hhd'),\n",
              " (0.2402530733520421, 'leb'),\n",
              " (0.2402530733520421, 'kmh')]"
            ]
          },
          "metadata": {},
          "execution_count": 9
        }
      ]
    },
    {
      "cell_type": "markdown",
      "source": [
        "### 상관계수를 이용한 영화추천하기"
      ],
      "metadata": {
        "id": "dIuxThVyuxm_"
      }
    },
    {
      "cell_type": "code",
      "source": [
        "critics = {\n",
        "    '차현석': {\n",
        "        '택시운전사': 2.5,\n",
        "        '남한산성': 3.5,\n",
        "        '킹스맨:골든서클': 3.0,\n",
        "        '범죄도시': 3.5,\n",
        "        '아이 캔 스피크': 2.5,\n",
        "        'The Night Listener': 3.0,\n",
        "    },\n",
        "    '황해도': {\n",
        "        '택시운전사': 1.0,\n",
        "        '남한산성': 4.5,\n",
        "        '킹스맨:골든서클': 0.5,\n",
        "        '범죄도시': 1.5,\n",
        "        '아이 캔 스피크': 4.5,\n",
        "        'The Night Listener': 5.0,\n",
        "    },\n",
        "    '김미희': {\n",
        "        '택시운전사': 3.0,\n",
        "        '남한산성': 3.5,\n",
        "        '킹스맨:골든서클': 1.5,\n",
        "        '범죄도시': 5.0,\n",
        "        'The Night Listener': 3.0,\n",
        "        '아이 캔 스피크': 3.5,\n",
        "    },\n",
        "    '김준형': {\n",
        "        '택시운전사': 2.5,\n",
        "        '남한산성': 3.0,\n",
        "        '범죄도시': 3.5,\n",
        "        'The Night Listener': 4.0,\n",
        "    },\n",
        "    '이은비': {\n",
        "        '남한산성': 3.5,\n",
        "        '킹스맨:골든서클': 3.0,\n",
        "        'The Night Listener': 4.5,\n",
        "        '범죄도시': 4.0,\n",
        "        '아이 캔 스피크': 2.5,\n",
        "    },\n",
        "    '임명진': {\n",
        "        '택시운전사': 3.0,\n",
        "        '남한산성': 4.0,\n",
        "        '킹스맨:골든서클': 2.0,\n",
        "        '범죄도시': 3.0,\n",
        "        'The Night Listener': 3.5,\n",
        "        '아이 캔 스피크': 2.0,\n",
        "    },\n",
        "    '심수정': {\n",
        "        '택시운전사': 3.0,\n",
        "        '남한산성': 4.0,\n",
        "        'The Night Listener': 3.0,\n",
        "        '범죄도시': 5.0,\n",
        "        '아이 캔 스피크': 3.5,\n",
        "    },\n",
        "    '박병관': {'남한산성': 4.5, '아이 캔 스피크': 1.0,\n",
        "             '범죄도시': 4.0},\n",
        "}"
      ],
      "metadata": {
        "id": "qdtGRUbLu3Yy"
      },
      "execution_count": null,
      "outputs": []
    },
    {
      "cell_type": "code",
      "source": [
        "import matplotlib.pyplot as plt\n",
        "from math import sqrt"
      ],
      "metadata": {
        "id": "GqJKpIjkvBhF"
      },
      "execution_count": null,
      "outputs": []
    },
    {
      "cell_type": "code",
      "source": [
        "from matplotlib import font_manager, rc #한글이 나오게\n",
        "plt.rc('font', family='NanumBarunGothic') \n"
      ],
      "metadata": {
        "id": "Z29YuljGu9TR"
      },
      "execution_count": null,
      "outputs": []
    },
    {
      "cell_type": "code",
      "source": [
        "# critics data 이용해 scatter plot 그리기\n",
        "def drawGraph(data, name1, name2):\n",
        "    plt.figure(figsize=(14,8)) # plot 크기설정\n",
        "    \n",
        "    # plot 좌표를 위한 list 선언\n",
        "    li = []\n",
        "    li2 = []\n",
        "    \n",
        "    for i in critics[name1]: # i = 키 값\n",
        "        if i in data[name2]: # 같은 영화를 평가했을때만\n",
        "            li.append(critics[name1][i]) # name1의 평점 li[]에 추가\n",
        "            li2.append(critics[name2][i]) # name2의 평점 li2[]에 추가\n",
        "            plt.text(critics[name1][i],critics[name2][i],i) # 영화 제목 text 찍기\n",
        "            \n",
        "    plt.plot(li,li2,'ro') #plot그리기\n",
        "    \n",
        "    #각 축의 크기 설정 (0에서 6까지)\n",
        "    plt.axis([0,6,0,6])\n",
        " \n",
        "    # x축과 y축 이름 설정\n",
        "    plt.xlabel(name1)\n",
        "    plt.ylabel(name2)\n",
        " \n",
        "    # 그리기\n",
        "    plt.show()\n",
        "\n"
      ],
      "metadata": {
        "id": "g6yHcufAxADy"
      },
      "execution_count": null,
      "outputs": []
    },
    {
      "cell_type": "code",
      "source": [
        "drawGraph(critics,'황해도','임명진')"
      ],
      "metadata": {
        "colab": {
          "base_uri": "https://localhost:8080/",
          "height": 500
        },
        "id": "vC8lT1VrxYN4",
        "outputId": "8ca7de5e-f14c-4fb0-a4ac-5e209e7fb2f2"
      },
      "execution_count": null,
      "outputs": [
        {
          "output_type": "display_data",
          "data": {
            "text/plain": [
              "<Figure size 1008x576 with 1 Axes>"
            ],
            "image/png": "[encoded data removed]"
          },
          "metadata": {
            "needs_background": "light"
          }
        }
      ]
    },
    {
      "cell_type": "code",
      "source": [
        "# 피어슨 상관계수 구하기\n",
        "def sim_pearson(data, name1, name2):\n",
        "    sumX=0 # X의 합\n",
        "    sumY=0 # Y의 합\n",
        "    sumPowX=0 # X 제곱의 합\n",
        "    sumPowY=0 # Y 제곱의 합\n",
        "    sumXY=0 # X*Y의 합\n",
        "    count=0 #영화 개수\n",
        "    \n",
        "    for i in data[name1]: # i = key\n",
        "        if i in data[name2]: # 같은 영화를 평가했을때만\n",
        "            sumX+=data[name1][i]\n",
        "            sumY+=data[name2][i]\n",
        "            sumPowX+=pow(data[name1][i],2)\n",
        "            sumPowY+=pow(data[name2][i],2)\n",
        "            sumXY+=data[name1][i]*data[name2][i]\n",
        "            count+=1\n",
        "    \n",
        "    return ( sumXY- ((sumX*sumY)/count) )/ sqrt( (sumPowX - (pow(sumX,2) / count)) * (sumPowY - (pow(sumY,2)/count)))"
      ],
      "metadata": {
        "id": "nwCZUBPzxycu"
      },
      "execution_count": null,
      "outputs": []
    },
    {
      "cell_type": "code",
      "source": [
        "sim_pearson(critics,'황해도','임명진')"
      ],
      "metadata": {
        "colab": {
          "base_uri": "https://localhost:8080/"
        },
        "id": "cRY5CSPnxz9l",
        "outputId": "ced0d8e4-cc84-4a5a-97d0-2f8bcc2be9f1"
      },
      "execution_count": null,
      "outputs": [
        {
          "output_type": "execute_result",
          "data": {
            "text/plain": [
              "0.41791069697885247"
            ]
          },
          "metadata": {},
          "execution_count": 13
        }
      ]
    },
    {
      "cell_type": "code",
      "source": [
        "def top_match(data, name, index=3, sim_function=sim_pearson):\n",
        "    li=[]\n",
        "    for i in data: #딕셔너리를 돌고\n",
        "        if name!=i: #자기 자신이 아닐때만\n",
        "            li.append((sim_function(data,name,i),i)) #sim_function()을 통해 상관계수를 구하고 li[]에 추가\n",
        "    li.sort() #오름차순\n",
        "    li.reverse() #내림차순\n",
        "    return li[:index]"
      ],
      "metadata": {
        "id": "9026zu8FyGq-"
      },
      "execution_count": null,
      "outputs": []
    },
    {
      "cell_type": "code",
      "source": [
        "top_match(critics, '박병관',6)"
      ],
      "metadata": {
        "colab": {
          "base_uri": "https://localhost:8080/"
        },
        "id": "J8YbG8IYyJZa",
        "outputId": "f7082482-315d-4d7e-c16a-ac5b8f620e6a"
      },
      "execution_count": null,
      "outputs": [
        {
          "output_type": "execute_result",
          "data": {
            "text/plain": [
              "[(0.9912407071619299, '차현석'),\n",
              " (0.9244734516419049, '임명진'),\n",
              " (0.8934051474415647, '이은비'),\n",
              " (0.66284898035987, '심수정'),\n",
              " (0.38124642583151164, '김미희'),\n",
              " (-0.38124642583151164, '황해도')]"
            ]
          },
          "metadata": {},
          "execution_count": 15
        }
      ]
    },
    {
      "cell_type": "markdown",
      "source": [
        "상관계수를 통해서 현석이와 병관이의 취향이 비슷한 것을 확인 할 수 있다."
      ],
      "metadata": {
        "id": "KhiWw4ejyNVr"
      }
    },
    {
      "cell_type": "code",
      "source": [
        "'''\n",
        "top_match는 한 사람을 기준으로 다른 사람들과의 상관계수를 리턴하는 함수\n",
        "결과는 (유사도,사람이름)이런식으로 리턴함\n",
        "예를 들어 철수에게 영화를 추천한다고 하자.\n",
        "반복문으로 철수와 다른사람과의 상관계수를 각각 name과 sim에 저장\n",
        "만약 sim이 음수이면 다른 사람의 취향은 필요가 없으니 제외\n",
        "먼저 유리의 경우\n",
        "유리가 평가한 영화들을 하나씩 반복으로 뽑아서 이때 그 평가한 영화가 철수가 평가한 영화가 아니여야만 추천함(철수가 보지 않은 영화를 추천해야 하니까)\n",
        "유리가 평가한 영화으 평점과 상관계수를 곱해서 score에 더함\n",
        "score_dic에 영화제목과 score를 설정 \n",
        "sim_dic에는 유리의 상관계수를 더해줌\n",
        "\n",
        "'''\n",
        "\n",
        "\n",
        "\n",
        "\n",
        "def getRecommendation (data,person,sim_function=sim_pearson):\n",
        "    result = top_match(critics, person ,len(data))\n",
        "    \n",
        "    simSum=0 # 유사도 합을 위한 변수\n",
        "    score=0 # 평점 합을 위한 변수\n",
        "    li=[] # 리턴을 위한 리스트\n",
        "    score_dic={} # 유사도 총합을 위한 dic\n",
        "    sim_dic={} # 평점 총합을 위한 dic\n",
        " \n",
        "    for sim,name in result: # 튜플이므로 한번에 \n",
        "        if sim<0 : continue #유사도가 양수인 사람만\n",
        "        for movie in data[name]: \n",
        "            if movie not in data[person]: #name이 평가를 내리지 않은 영화\n",
        "                score+=sim*data[name][movie] # 그사람의 영화평점 * 유사도\n",
        "                score_dic.setdefault(movie,0) # 기본값 설정\n",
        "                score_dic[movie]+=score # 합계 구함\n",
        " \n",
        "                # 조건에 맞는 사람의 유사도의 누적합을 구한다\n",
        "                sim_dic.setdefault(movie,0) \n",
        "                sim_dic[movie]+=sim\n",
        " \n",
        "            score=0  #영화가 바뀌었으니 초기화한다\n",
        "    \n",
        "    for key in score_dic: \n",
        "        score_dic[key]=score_dic[key]/sim_dic[key] # 평점 총합/ 유사도 총합\n",
        "        li.append((score_dic[key],key)) # list((tuple))의 리턴을 위해서.\n",
        "    li.sort() #오름차순\n",
        "    li.reverse() #내림차순\n",
        "    return li\n"
      ],
      "metadata": {
        "id": "zKodJYk-0aHY"
      },
      "execution_count": null,
      "outputs": []
    },
    {
      "cell_type": "code",
      "source": [
        "getRecommendation(critics, '박병관')"
      ],
      "metadata": {
        "colab": {
          "base_uri": "https://localhost:8080/"
        },
        "id": "TgVWoUKX30Ma",
        "outputId": "cadecf33-3127-42e1-fe91-851e5b84824b"
      },
      "execution_count": null,
      "outputs": [
        {
          "output_type": "execute_result",
          "data": {
            "text/plain": [
              "[(3.467750847406967, 'The Night Listener'),\n",
              " (2.8325499182641614, '택시운전사'),\n",
              " (2.5309807037655645, '킹스맨:골든서클')]"
            ]
          },
          "metadata": {},
          "execution_count": 17
        }
      ]
    },
    {
      "cell_type": "markdown",
      "source": [
        "출처 : https://kutar37.tistory.com/39"
      ],
      "metadata": {
        "id": "7LgVamxdBf-W"
      }
    },
    {
      "cell_type": "markdown",
      "source": [
        "### movie_len을 가지고 하려면\n",
        "\n",
        "- 평가자 943명중에서 아무나 하나 찝어서 얘한테 영화를 추천해준다고 하자??\n",
        "- 혹은 가상의 인물을 만들어서 어떤 영화에 어떤 평점을 주었다고 가정할때 가상에 인물에게 영화를 추천"
      ],
      "metadata": {
        "id": "Sf1CMbhz6au9"
      }
    },
    {
      "cell_type": "markdown",
      "source": [
        "### 만약 아무런 정보도 없는 새로운 사람한테 추천하려면??\n",
        "\n",
        "- 이경우에는 그냥 평점이 높은 영화를 추천\n",
        "- 장르별로 추천\n",
        "- 연령대에 따라서 추천"
      ],
      "metadata": {
        "id": "cKC_pR5w_IYU"
      }
    },
    {
      "cell_type": "markdown",
      "source": [
        "### CB를 이용할 경우\n",
        "\n",
        "- 새로운 가입자가 키워드를 선택\n",
        "- 이와 관련된 영화를 추천함"
      ],
      "metadata": {
        "id": "LeVHkSG-_agk"
      }
    },
    {
      "cell_type": "code",
      "source": [
        "import pandas as pd\n",
        "import numpy as np"
      ],
      "metadata": {
        "id": "5VrKFTN8a11Z"
      },
      "execution_count": 1,
      "outputs": []
    },
    {
      "cell_type": "code",
      "source": [
        "from google.colab import drive\n",
        "drive.mount('/content/drive')"
      ],
      "metadata": {
        "colab": {
          "base_uri": "https://localhost:8080/"
        },
        "id": "2eEsA6O7cjY7",
        "outputId": "812f6dd6-b133-4803-8e12-b64fe4d916e0"
      },
      "execution_count": 2,
      "outputs": [
        {
          "output_type": "stream",
          "name": "stdout",
          "text": [
            "Mounted at /content/drive\n"
          ]
        }
      ]
    },
    {
      "cell_type": "code",
      "source": [
        "df = pd.read_csv('/content/drive/MyDrive/ml-100k.csv')"
      ],
      "metadata": {
        "id": "3FPQH2aZfkbf"
      },
      "execution_count": 3,
      "outputs": []
    },
    {
      "cell_type": "code",
      "source": [
        "df.shape"
      ],
      "metadata": {
        "colab": {
          "base_uri": "https://localhost:8080/"
        },
        "id": "qgpFCAz_tA70",
        "outputId": "29a2babe-e867-4b10-f024-8d99f35d16e4"
      },
      "execution_count": 4,
      "outputs": [
        {
          "output_type": "execute_result",
          "data": {
            "text/plain": [
              "(100000, 4)"
            ]
          },
          "metadata": {},
          "execution_count": 4
        }
      ]
    },
    {
      "cell_type": "code",
      "source": [
        "df.drop(columns = 'timestamp',inplace = True)"
      ],
      "metadata": {
        "id": "UkIaJyvjfKOV"
      },
      "execution_count": 5,
      "outputs": []
    },
    {
      "cell_type": "code",
      "source": [
        "df.columns"
      ],
      "metadata": {
        "colab": {
          "base_uri": "https://localhost:8080/"
        },
        "id": "TUBFI91ge-SS",
        "outputId": "5755cb57-4cb2-46e2-8eac-4f6f77eb3951"
      },
      "execution_count": 6,
      "outputs": [
        {
          "output_type": "execute_result",
          "data": {
            "text/plain": [
              "Index(['user_id', 'item_id', 'rating'], dtype='object')"
            ]
          },
          "metadata": {},
          "execution_count": 6
        }
      ]
    },
    {
      "cell_type": "code",
      "source": [
        "df.columns = (['userId','movieId','rating'])"
      ],
      "metadata": {
        "id": "EL2mSUbsfCK7"
      },
      "execution_count": 7,
      "outputs": []
    },
    {
      "cell_type": "markdown",
      "source": [
        "### 원활한 데이터 분석을 위해서 새로운 데이터 프레임 만들기"
      ],
      "metadata": {
        "id": "xfp4Gh9NyjWZ"
      }
    },
    {
      "cell_type": "code",
      "source": [
        "adj_matrix_rating = df.pivot(index = 'userId', columns = 'movieId', values = 'rating')"
      ],
      "metadata": {
        "id": "yscBemX6e8KS"
      },
      "execution_count": 8,
      "outputs": []
    },
    {
      "cell_type": "code",
      "source": [
        "adj_matrix_rating.T"
      ],
      "metadata": {
        "colab": {
          "base_uri": "https://localhost:8080/",
          "height": 455
        },
        "id": "8w9y3ePgfUnx",
        "outputId": "5ae9cdc7-0ed1-456d-96a9-d015c13af42b"
      },
      "execution_count": 9,
      "outputs": [
        {
          "output_type": "execute_result",
          "data": {
            "text/plain": [
              "userId   1    2    3    4    5    6    7    8    9    10   ...  934  935  936  \\\n",
              "movieId                                                    ...                  \n",
              "1        5.0  4.0  NaN  NaN  4.0  4.0  NaN  NaN  NaN  4.0  ...  2.0  3.0  4.0   \n",
              "2        3.0  NaN  NaN  NaN  3.0  NaN  NaN  NaN  NaN  NaN  ...  4.0  NaN  NaN   \n",
              "3        4.0  NaN  NaN  NaN  NaN  NaN  NaN  NaN  NaN  NaN  ...  NaN  NaN  4.0   \n",
              "4        3.0  NaN  NaN  NaN  NaN  NaN  5.0  NaN  NaN  4.0  ...  5.0  NaN  NaN   \n",
              "5        3.0  NaN  NaN  NaN  NaN  NaN  NaN  NaN  NaN  NaN  ...  NaN  NaN  NaN   \n",
              "...      ...  ...  ...  ...  ...  ...  ...  ...  ...  ...  ...  ...  ...  ...   \n",
              "1678     NaN  NaN  NaN  NaN  NaN  NaN  NaN  NaN  NaN  NaN  ...  NaN  NaN  NaN   \n",
              "1679     NaN  NaN  NaN  NaN  NaN  NaN  NaN  NaN  NaN  NaN  ...  NaN  NaN  NaN   \n",
              "1680     NaN  NaN  NaN  NaN  NaN  NaN  NaN  NaN  NaN  NaN  ...  NaN  NaN  NaN   \n",
              "1681     NaN  NaN  NaN  NaN  NaN  NaN  NaN  NaN  NaN  NaN  ...  NaN  NaN  NaN   \n",
              "1682     NaN  NaN  NaN  NaN  NaN  NaN  NaN  NaN  NaN  NaN  ...  NaN  NaN  NaN   \n",
              "\n",
              "userId   937  938  939  940  941  942  943  \n",
              "movieId                                     \n",
              "1        NaN  4.0  NaN  NaN  5.0  NaN  NaN  \n",
              "2        NaN  NaN  NaN  NaN  NaN  NaN  5.0  \n",
              "3        NaN  NaN  NaN  NaN  NaN  NaN  NaN  \n",
              "4        NaN  NaN  NaN  2.0  NaN  NaN  NaN  \n",
              "5        NaN  NaN  NaN  NaN  NaN  NaN  NaN  \n",
              "...      ...  ...  ...  ...  ...  ...  ...  \n",
              "1678     NaN  NaN  NaN  NaN  NaN  NaN  NaN  \n",
              "1679     NaN  NaN  NaN  NaN  NaN  NaN  NaN  \n",
              "1680     NaN  NaN  NaN  NaN  NaN  NaN  NaN  \n",
              "1681     NaN  NaN  NaN  NaN  NaN  NaN  NaN  \n",
              "1682     NaN  NaN  NaN  NaN  NaN  NaN  NaN  \n",
              "\n",
              "[1682 rows x 943 columns]"
            ],
            "text/html": [
              "\n",
              "  <div id=\"df-eefee7e8-e3ed-4021-b3e8-39ce1128abce\">\n",
              "    <div class=\"colab-df-container\">\n",
              "      <div>\n",
              "<style scoped>\n",
              "    .dataframe tbody tr th:only-of-type {\n",
              "        vertical-align: middle;\n",
              "    }\n",
              "\n",
              "    .dataframe tbody tr th {\n",
              "        vertical-align: top;\n",
              "    }\n",
              "\n",
              "    .dataframe thead th {\n",
              "        text-align: right;\n",
              "    }\n",
              "</style>\n",
              "<table border=\"1\" class=\"dataframe\">\n",
              "  <thead>\n",
              "    <tr style=\"text-align: right;\">\n",
              "      <th>userId</th>\n",
              "      <th>1</th>\n",
              "      <th>2</th>\n",
              "      <th>3</th>\n",
              "      <th>4</th>\n",
              "      <th>5</th>\n",
              "      <th>6</th>\n",
              "      <th>7</th>\n",
              "      <th>8</th>\n",
              "      <th>9</th>\n",
              "      <th>10</th>\n",
              "      <th>...</th>\n",
              "      <th>934</th>\n",
              "      <th>935</th>\n",
              "      <th>936</th>\n",
              "      <th>937</th>\n",
              "      <th>938</th>\n",
              "      <th>939</th>\n",
              "      <th>940</th>\n",
              "      <th>941</th>\n",
              "      <th>942</th>\n",
              "      <th>943</th>\n",
              "    </tr>\n",
              "    <tr>\n",
              "      <th>movieId</th>\n",
              "      <th></th>\n",
              "      <th></th>\n",
              "      <th></th>\n",
              "      <th></th>\n",
              "      <th></th>\n",
              "      <th></th>\n",
              "      <th></th>\n",
              "      <th></th>\n",
              "      <th></th>\n",
              "      <th></th>\n",
              "      <th></th>\n",
              "      <th></th>\n",
              "      <th></th>\n",
              "      <th></th>\n",
              "      <th></th>\n",
              "      <th></th>\n",
              "      <th></th>\n",
              "      <th></th>\n",
              "      <th></th>\n",
              "      <th></th>\n",
              "      <th></th>\n",
              "    </tr>\n",
              "  </thead>\n",
              "  <tbody>\n",
              "    <tr>\n",
              "      <th>1</th>\n",
              "      <td>5.0</td>\n",
              "      <td>4.0</td>\n",
              "      <td>NaN</td>\n",
              "      <td>NaN</td>\n",
              "      <td>4.0</td>\n",
              "      <td>4.0</td>\n",
              "      <td>NaN</td>\n",
              "      <td>NaN</td>\n",
              "      <td>NaN</td>\n",
              "      <td>4.0</td>\n",
              "      <td>...</td>\n",
              "      <td>2.0</td>\n",
              "      <td>3.0</td>\n",
              "      <td>4.0</td>\n",
              "      <td>NaN</td>\n",
              "      <td>4.0</td>\n",
              "      <td>NaN</td>\n",
              "      <td>NaN</td>\n",
              "      <td>5.0</td>\n",
              "      <td>NaN</td>\n",
              "      <td>NaN</td>\n",
              "    </tr>\n",
              "    <tr>\n",
              "      <th>2</th>\n",
              "      <td>3.0</td>\n",
              "      <td>NaN</td>\n",
              "      <td>NaN</td>\n",
              "      <td>NaN</td>\n",
              "      <td>3.0</td>\n",
              "      <td>NaN</td>\n",
              "      <td>NaN</td>\n",
              "      <td>NaN</td>\n",
              "      <td>NaN</td>\n",
              "      <td>NaN</td>\n",
              "      <td>...</td>\n",
              "      <td>4.0</td>\n",
              "      <td>NaN</td>\n",
              "      <td>NaN</td>\n",
              "      <td>NaN</td>\n",
              "      <td>NaN</td>\n",
              "      <td>NaN</td>\n",
              "      <td>NaN</td>\n",
              "      <td>NaN</td>\n",
              "      <td>NaN</td>\n",
              "      <td>5.0</td>\n",
              "    </tr>\n",
              "    <tr>\n",
              "      <th>3</th>\n",
              "      <td>4.0</td>\n",
              "      <td>NaN</td>\n",
              "      <td>NaN</td>\n",
              "      <td>NaN</td>\n",
              "      <td>NaN</td>\n",
              "      <td>NaN</td>\n",
              "      <td>NaN</td>\n",
              "      <td>NaN</td>\n",
              "      <td>NaN</td>\n",
              "      <td>NaN</td>\n",
              "      <td>...</td>\n",
              "      <td>NaN</td>\n",
              "      <td>NaN</td>\n",
              "      <td>4.0</td>\n",
              "      <td>NaN</td>\n",
              "      <td>NaN</td>\n",
              "      <td>NaN</td>\n",
              "      <td>NaN</td>\n",
              "      <td>NaN</td>\n",
              "      <td>NaN</td>\n",
              "      <td>NaN</td>\n",
              "    </tr>\n",
              "    <tr>\n",
              "      <th>4</th>\n",
              "      <td>3.0</td>\n",
              "      <td>NaN</td>\n",
              "      <td>NaN</td>\n",
              "      <td>NaN</td>\n",
              "      <td>NaN</td>\n",
              "      <td>NaN</td>\n",
              "      <td>5.0</td>\n",
              "      <td>NaN</td>\n",
              "      <td>NaN</td>\n",
              "      <td>4.0</td>\n",
              "      <td>...</td>\n",
              "      <td>5.0</td>\n",
              "      <td>NaN</td>\n",
              "      <td>NaN</td>\n",
              "      <td>NaN</td>\n",
              "      <td>NaN</td>\n",
              "      <td>NaN</td>\n",
              "      <td>2.0</td>\n",
              "      <td>NaN</td>\n",
              "      <td>NaN</td>\n",
              "      <td>NaN</td>\n",
              "    </tr>\n",
              "    <tr>\n",
              "      <th>5</th>\n",
              "      <td>3.0</td>\n",
              "      <td>NaN</td>\n",
              "      <td>NaN</td>\n",
              "      <td>NaN</td>\n",
              "      <td>NaN</td>\n",
              "      <td>NaN</td>\n",
              "      <td>NaN</td>\n",
              "      <td>NaN</td>\n",
              "      <td>NaN</td>\n",
              "      <td>NaN</td>\n",
              "      <td>...</td>\n",
              "      <td>NaN</td>\n",
              "      <td>NaN</td>\n",
              "      <td>NaN</td>\n",
              "      <td>NaN</td>\n",
              "      <td>NaN</td>\n",
              "      <td>NaN</td>\n",
              "      <td>NaN</td>\n",
              "      <td>NaN</td>\n",
              "      <td>NaN</td>\n",
              "      <td>NaN</td>\n",
              "    </tr>\n",
              "    <tr>\n",
              "      <th>...</th>\n",
              "      <td>...</td>\n",
              "      <td>...</td>\n",
              "      <td>...</td>\n",
              "      <td>...</td>\n",
              "      <td>...</td>\n",
              "      <td>...</td>\n",
              "      <td>...</td>\n",
              "      <td>...</td>\n",
              "      <td>...</td>\n",
              "      <td>...</td>\n",
              "      <td>...</td>\n",
              "      <td>...</td>\n",
              "      <td>...</td>\n",
              "      <td>...</td>\n",
              "      <td>...</td>\n",
              "      <td>...</td>\n",
              "      <td>...</td>\n",
              "      <td>...</td>\n",
              "      <td>...</td>\n",
              "      <td>...</td>\n",
              "      <td>...</td>\n",
              "    </tr>\n",
              "    <tr>\n",
              "      <th>1678</th>\n",
              "      <td>NaN</td>\n",
              "      <td>NaN</td>\n",
              "      <td>NaN</td>\n",
              "      <td>NaN</td>\n",
              "      <td>NaN</td>\n",
              "      <td>NaN</td>\n",
              "      <td>NaN</td>\n",
              "      <td>NaN</td>\n",
              "      <td>NaN</td>\n",
              "      <td>NaN</td>\n",
              "      <td>...</td>\n",
              "      <td>NaN</td>\n",
              "      <td>NaN</td>\n",
              "      <td>NaN</td>\n",
              "      <td>NaN</td>\n",
              "      <td>NaN</td>\n",
              "      <td>NaN</td>\n",
              "      <td>NaN</td>\n",
              "      <td>NaN</td>\n",
              "      <td>NaN</td>\n",
              "      <td>NaN</td>\n",
              "    </tr>\n",
              "    <tr>\n",
              "      <th>1679</th>\n",
              "      <td>NaN</td>\n",
              "      <td>NaN</td>\n",
              "      <td>NaN</td>\n",
              "      <td>NaN</td>\n",
              "      <td>NaN</td>\n",
              "      <td>NaN</td>\n",
              "      <td>NaN</td>\n",
              "      <td>NaN</td>\n",
              "      <td>NaN</td>\n",
              "      <td>NaN</td>\n",
              "      <td>...</td>\n",
              "      <td>NaN</td>\n",
              "      <td>NaN</td>\n",
              "      <td>NaN</td>\n",
              "      <td>NaN</td>\n",
              "      <td>NaN</td>\n",
              "      <td>NaN</td>\n",
              "      <td>NaN</td>\n",
              "      <td>NaN</td>\n",
              "      <td>NaN</td>\n",
              "      <td>NaN</td>\n",
              "    </tr>\n",
              "    <tr>\n",
              "      <th>1680</th>\n",
              "      <td>NaN</td>\n",
              "      <td>NaN</td>\n",
              "      <td>NaN</td>\n",
              "      <td>NaN</td>\n",
              "      <td>NaN</td>\n",
              "      <td>NaN</td>\n",
              "      <td>NaN</td>\n",
              "      <td>NaN</td>\n",
              "      <td>NaN</td>\n",
              "      <td>NaN</td>\n",
              "      <td>...</td>\n",
              "      <td>NaN</td>\n",
              "      <td>NaN</td>\n",
              "      <td>NaN</td>\n",
              "      <td>NaN</td>\n",
              "      <td>NaN</td>\n",
              "      <td>NaN</td>\n",
              "      <td>NaN</td>\n",
              "      <td>NaN</td>\n",
              "      <td>NaN</td>\n",
              "      <td>NaN</td>\n",
              "    </tr>\n",
              "    <tr>\n",
              "      <th>1681</th>\n",
              "      <td>NaN</td>\n",
              "      <td>NaN</td>\n",
              "      <td>NaN</td>\n",
              "      <td>NaN</td>\n",
              "      <td>NaN</td>\n",
              "      <td>NaN</td>\n",
              "      <td>NaN</td>\n",
              "      <td>NaN</td>\n",
              "      <td>NaN</td>\n",
              "      <td>NaN</td>\n",
              "      <td>...</td>\n",
              "      <td>NaN</td>\n",
              "      <td>NaN</td>\n",
              "      <td>NaN</td>\n",
              "      <td>NaN</td>\n",
              "      <td>NaN</td>\n",
              "      <td>NaN</td>\n",
              "      <td>NaN</td>\n",
              "      <td>NaN</td>\n",
              "      <td>NaN</td>\n",
              "      <td>NaN</td>\n",
              "    </tr>\n",
              "    <tr>\n",
              "      <th>1682</th>\n",
              "      <td>NaN</td>\n",
              "      <td>NaN</td>\n",
              "      <td>NaN</td>\n",
              "      <td>NaN</td>\n",
              "      <td>NaN</td>\n",
              "      <td>NaN</td>\n",
              "      <td>NaN</td>\n",
              "      <td>NaN</td>\n",
              "      <td>NaN</td>\n",
              "      <td>NaN</td>\n",
              "      <td>...</td>\n",
              "      <td>NaN</td>\n",
              "      <td>NaN</td>\n",
              "      <td>NaN</td>\n",
              "      <td>NaN</td>\n",
              "      <td>NaN</td>\n",
              "      <td>NaN</td>\n",
              "      <td>NaN</td>\n",
              "      <td>NaN</td>\n",
              "      <td>NaN</td>\n",
              "      <td>NaN</td>\n",
              "    </tr>\n",
              "  </tbody>\n",
              "</table>\n",
              "<p>1682 rows × 943 columns</p>\n",
              "</div>\n",
              "      <button class=\"colab-df-convert\" onclick=\"convertToInteractive('df-eefee7e8-e3ed-4021-b3e8-39ce1128abce')\"\n",
              "              title=\"Convert this dataframe to an interactive table.\"\n",
              "              style=\"display:none;\">\n",
              "        \n",
              "  <svg xmlns=\"http://www.w3.org/2000/svg\" height=\"24px\"viewBox=\"0 0 24 24\"\n",
              "       width=\"24px\">\n",
              "    <path d=\"M0 0h24v24H0V0z\" fill=\"none\"/>\n",
              "    <path d=\"M18.56 5.44l.94 2.06.94-2.06 2.06-.94-2.06-.94-.94-2.06-.94 2.06-2.06.94zm-11 1L8.5 8.5l.94-2.06 2.06-.94-2.06-.94L8.5 2.5l-.94 2.06-2.06.94zm10 10l.94 2.06.94-2.06 2.06-.94-2.06-.94-.94-2.06-.94 2.06-2.06.94z\"/><path d=\"M17.41 7.96l-1.37-1.37c-.4-.4-.92-.59-1.43-.59-.52 0-1.04.2-1.43.59L10.3 9.45l-7.72 7.72c-.78.78-.78 2.05 0 2.83L4 21.41c.39.39.9.59 1.41.59.51 0 1.02-.2 1.41-.59l7.78-7.78 2.81-2.81c.8-.78.8-2.07 0-2.86zM5.41 20L4 18.59l7.72-7.72 1.47 1.35L5.41 20z\"/>\n",
              "  </svg>\n",
              "      </button>\n",
              "      \n",
              "  <style>\n",
              "    .colab-df-container {\n",
              "      display:flex;\n",
              "      flex-wrap:wrap;\n",
              "      gap: 12px;\n",
              "    }\n",
              "\n",
              "    .colab-df-convert {\n",
              "      background-color: #E8F0FE;\n",
              "      border: none;\n",
              "      border-radius: 50%;\n",
              "      cursor: pointer;\n",
              "      display: none;\n",
              "      fill: #1967D2;\n",
              "      height: 32px;\n",
              "      padding: 0 0 0 0;\n",
              "      width: 32px;\n",
              "    }\n",
              "\n",
              "    .colab-df-convert:hover {\n",
              "      background-color: #E2EBFA;\n",
              "      box-shadow: 0px 1px 2px rgba(60, 64, 67, 0.3), 0px 1px 3px 1px rgba(60, 64, 67, 0.15);\n",
              "      fill: #174EA6;\n",
              "    }\n",
              "\n",
              "    [theme=dark] .colab-df-convert {\n",
              "      background-color: #3B4455;\n",
              "      fill: #D2E3FC;\n",
              "    }\n",
              "\n",
              "    [theme=dark] .colab-df-convert:hover {\n",
              "      background-color: #434B5C;\n",
              "      box-shadow: 0px 1px 3px 1px rgba(0, 0, 0, 0.15);\n",
              "      filter: drop-shadow(0px 1px 2px rgba(0, 0, 0, 0.3));\n",
              "      fill: #FFFFFF;\n",
              "    }\n",
              "  </style>\n",
              "\n",
              "      <script>\n",
              "        const buttonEl =\n",
              "          document.querySelector('#df-eefee7e8-e3ed-4021-b3e8-39ce1128abce button.colab-df-convert');\n",
              "        buttonEl.style.display =\n",
              "          google.colab.kernel.accessAllowed ? 'block' : 'none';\n",
              "\n",
              "        async function convertToInteractive(key) {\n",
              "          const element = document.querySelector('#df-eefee7e8-e3ed-4021-b3e8-39ce1128abce');\n",
              "          const dataTable =\n",
              "            await google.colab.kernel.invokeFunction('convertToInteractive',\n",
              "                                                     [key], {});\n",
              "          if (!dataTable) return;\n",
              "\n",
              "          const docLinkHtml = 'Like what you see? Visit the ' +\n",
              "            '<a target=\"_blank\" href=https://colab.research.google.com/notebooks/data_table.ipynb>data table notebook</a>'\n",
              "            + ' to learn more about interactive tables.';\n",
              "          element.innerHTML = '';\n",
              "          dataTable['output_type'] = 'display_data';\n",
              "          await google.colab.output.renderOutput(dataTable, element);\n",
              "          const docLink = document.createElement('div');\n",
              "          docLink.innerHTML = docLinkHtml;\n",
              "          element.appendChild(docLink);\n",
              "        }\n",
              "      </script>\n",
              "    </div>\n",
              "  </div>\n",
              "  "
            ]
          },
          "metadata": {},
          "execution_count": 9
        }
      ]
    },
    {
      "cell_type": "code",
      "source": [
        "import copy\n",
        "\n",
        "adj_matrix = adj_matrix_rating.copy()\n",
        "# 행렬의 결측치(사용자가 보지 않은 영화)에 대해 해당 사용자의 평균 평점으로 대치해줌\n",
        "for i in range(adj_matrix_rating.shape[0]):\n",
        "  adj_matrix.iloc[i] = adj_matrix_rating.iloc[i].fillna(0)\n",
        "adj_matrix.head(5)"
      ],
      "metadata": {
        "colab": {
          "base_uri": "https://localhost:8080/",
          "height": 267
        },
        "id": "AKInwkTUgJkg",
        "outputId": "5847a42b-8b68-4c1c-cff0-fa7af04641fe"
      },
      "execution_count": 10,
      "outputs": [
        {
          "output_type": "execute_result",
          "data": {
            "text/plain": [
              "movieId  1     2     3     4     5     6     7     8     9     10    ...  \\\n",
              "userId                                                               ...   \n",
              "1         5.0   3.0   4.0   3.0   3.0   5.0   4.0   1.0   5.0   3.0  ...   \n",
              "2         4.0   0.0   0.0   0.0   0.0   0.0   0.0   0.0   0.0   2.0  ...   \n",
              "3         0.0   0.0   0.0   0.0   0.0   0.0   0.0   0.0   0.0   0.0  ...   \n",
              "4         0.0   0.0   0.0   0.0   0.0   0.0   0.0   0.0   0.0   0.0  ...   \n",
              "5         4.0   3.0   0.0   0.0   0.0   0.0   0.0   0.0   0.0   0.0  ...   \n",
              "\n",
              "movieId  1673  1674  1675  1676  1677  1678  1679  1680  1681  1682  \n",
              "userId                                                               \n",
              "1         0.0   0.0   0.0   0.0   0.0   0.0   0.0   0.0   0.0   0.0  \n",
              "2         0.0   0.0   0.0   0.0   0.0   0.0   0.0   0.0   0.0   0.0  \n",
              "3         0.0   0.0   0.0   0.0   0.0   0.0   0.0   0.0   0.0   0.0  \n",
              "4         0.0   0.0   0.0   0.0   0.0   0.0   0.0   0.0   0.0   0.0  \n",
              "5         0.0   0.0   0.0   0.0   0.0   0.0   0.0   0.0   0.0   0.0  \n",
              "\n",
              "[5 rows x 1682 columns]"
            ],
            "text/html": [
              "\n",
              "  <div id=\"df-dd97a01b-1403-4d29-93d6-a303f18929e2\">\n",
              "    <div class=\"colab-df-container\">\n",
              "      <div>\n",
              "<style scoped>\n",
              "    .dataframe tbody tr th:only-of-type {\n",
              "        vertical-align: middle;\n",
              "    }\n",
              "\n",
              "    .dataframe tbody tr th {\n",
              "        vertical-align: top;\n",
              "    }\n",
              "\n",
              "    .dataframe thead th {\n",
              "        text-align: right;\n",
              "    }\n",
              "</style>\n",
              "<table border=\"1\" class=\"dataframe\">\n",
              "  <thead>\n",
              "    <tr style=\"text-align: right;\">\n",
              "      <th>movieId</th>\n",
              "      <th>1</th>\n",
              "      <th>2</th>\n",
              "      <th>3</th>\n",
              "      <th>4</th>\n",
              "      <th>5</th>\n",
              "      <th>6</th>\n",
              "      <th>7</th>\n",
              "      <th>8</th>\n",
              "      <th>9</th>\n",
              "      <th>10</th>\n",
              "      <th>...</th>\n",
              "      <th>1673</th>\n",
              "      <th>1674</th>\n",
              "      <th>1675</th>\n",
              "      <th>1676</th>\n",
              "      <th>1677</th>\n",
              "      <th>1678</th>\n",
              "      <th>1679</th>\n",
              "      <th>1680</th>\n",
              "      <th>1681</th>\n",
              "      <th>1682</th>\n",
              "    </tr>\n",
              "    <tr>\n",
              "      <th>userId</th>\n",
              "      <th></th>\n",
              "      <th></th>\n",
              "      <th></th>\n",
              "      <th></th>\n",
              "      <th></th>\n",
              "      <th></th>\n",
              "      <th></th>\n",
              "      <th></th>\n",
              "      <th></th>\n",
              "      <th></th>\n",
              "      <th></th>\n",
              "      <th></th>\n",
              "      <th></th>\n",
              "      <th></th>\n",
              "      <th></th>\n",
              "      <th></th>\n",
              "      <th></th>\n",
              "      <th></th>\n",
              "      <th></th>\n",
              "      <th></th>\n",
              "      <th></th>\n",
              "    </tr>\n",
              "  </thead>\n",
              "  <tbody>\n",
              "    <tr>\n",
              "      <th>1</th>\n",
              "      <td>5.0</td>\n",
              "      <td>3.0</td>\n",
              "      <td>4.0</td>\n",
              "      <td>3.0</td>\n",
              "      <td>3.0</td>\n",
              "      <td>5.0</td>\n",
              "      <td>4.0</td>\n",
              "      <td>1.0</td>\n",
              "      <td>5.0</td>\n",
              "      <td>3.0</td>\n",
              "      <td>...</td>\n",
              "      <td>0.0</td>\n",
              "      <td>0.0</td>\n",
              "      <td>0.0</td>\n",
              "      <td>0.0</td>\n",
              "      <td>0.0</td>\n",
              "      <td>0.0</td>\n",
              "      <td>0.0</td>\n",
              "      <td>0.0</td>\n",
              "      <td>0.0</td>\n",
              "      <td>0.0</td>\n",
              "    </tr>\n",
              "    <tr>\n",
              "      <th>2</th>\n",
              "      <td>4.0</td>\n",
              "      <td>0.0</td>\n",
              "      <td>0.0</td>\n",
              "      <td>0.0</td>\n",
              "      <td>0.0</td>\n",
              "      <td>0.0</td>\n",
              "      <td>0.0</td>\n",
              "      <td>0.0</td>\n",
              "      <td>0.0</td>\n",
              "      <td>2.0</td>\n",
              "      <td>...</td>\n",
              "      <td>0.0</td>\n",
              "      <td>0.0</td>\n",
              "      <td>0.0</td>\n",
              "      <td>0.0</td>\n",
              "      <td>0.0</td>\n",
              "      <td>0.0</td>\n",
              "      <td>0.0</td>\n",
              "      <td>0.0</td>\n",
              "      <td>0.0</td>\n",
              "      <td>0.0</td>\n",
              "    </tr>\n",
              "    <tr>\n",
              "      <th>3</th>\n",
              "      <td>0.0</td>\n",
              "      <td>0.0</td>\n",
              "      <td>0.0</td>\n",
              "      <td>0.0</td>\n",
              "      <td>0.0</td>\n",
              "      <td>0.0</td>\n",
              "      <td>0.0</td>\n",
              "      <td>0.0</td>\n",
              "      <td>0.0</td>\n",
              "      <td>0.0</td>\n",
              "      <td>...</td>\n",
              "      <td>0.0</td>\n",
              "      <td>0.0</td>\n",
              "      <td>0.0</td>\n",
              "      <td>0.0</td>\n",
              "      <td>0.0</td>\n",
              "      <td>0.0</td>\n",
              "      <td>0.0</td>\n",
              "      <td>0.0</td>\n",
              "      <td>0.0</td>\n",
              "      <td>0.0</td>\n",
              "    </tr>\n",
              "    <tr>\n",
              "      <th>4</th>\n",
              "      <td>0.0</td>\n",
              "      <td>0.0</td>\n",
              "      <td>0.0</td>\n",
              "      <td>0.0</td>\n",
              "      <td>0.0</td>\n",
              "      <td>0.0</td>\n",
              "      <td>0.0</td>\n",
              "      <td>0.0</td>\n",
              "      <td>0.0</td>\n",
              "      <td>0.0</td>\n",
              "      <td>...</td>\n",
              "      <td>0.0</td>\n",
              "      <td>0.0</td>\n",
              "      <td>0.0</td>\n",
              "      <td>0.0</td>\n",
              "      <td>0.0</td>\n",
              "      <td>0.0</td>\n",
              "      <td>0.0</td>\n",
              "      <td>0.0</td>\n",
              "      <td>0.0</td>\n",
              "      <td>0.0</td>\n",
              "    </tr>\n",
              "    <tr>\n",
              "      <th>5</th>\n",
              "      <td>4.0</td>\n",
              "      <td>3.0</td>\n",
              "      <td>0.0</td>\n",
              "      <td>0.0</td>\n",
              "      <td>0.0</td>\n",
              "      <td>0.0</td>\n",
              "      <td>0.0</td>\n",
              "      <td>0.0</td>\n",
              "      <td>0.0</td>\n",
              "      <td>0.0</td>\n",
              "      <td>...</td>\n",
              "      <td>0.0</td>\n",
              "      <td>0.0</td>\n",
              "      <td>0.0</td>\n",
              "      <td>0.0</td>\n",
              "      <td>0.0</td>\n",
              "      <td>0.0</td>\n",
              "      <td>0.0</td>\n",
              "      <td>0.0</td>\n",
              "      <td>0.0</td>\n",
              "      <td>0.0</td>\n",
              "    </tr>\n",
              "  </tbody>\n",
              "</table>\n",
              "<p>5 rows × 1682 columns</p>\n",
              "</div>\n",
              "      <button class=\"colab-df-convert\" onclick=\"convertToInteractive('df-dd97a01b-1403-4d29-93d6-a303f18929e2')\"\n",
              "              title=\"Convert this dataframe to an interactive table.\"\n",
              "              style=\"display:none;\">\n",
              "        \n",
              "  <svg xmlns=\"http://www.w3.org/2000/svg\" height=\"24px\"viewBox=\"0 0 24 24\"\n",
              "       width=\"24px\">\n",
              "    <path d=\"M0 0h24v24H0V0z\" fill=\"none\"/>\n",
              "    <path d=\"M18.56 5.44l.94 2.06.94-2.06 2.06-.94-2.06-.94-.94-2.06-.94 2.06-2.06.94zm-11 1L8.5 8.5l.94-2.06 2.06-.94-2.06-.94L8.5 2.5l-.94 2.06-2.06.94zm10 10l.94 2.06.94-2.06 2.06-.94-2.06-.94-.94-2.06-.94 2.06-2.06.94z\"/><path d=\"M17.41 7.96l-1.37-1.37c-.4-.4-.92-.59-1.43-.59-.52 0-1.04.2-1.43.59L10.3 9.45l-7.72 7.72c-.78.78-.78 2.05 0 2.83L4 21.41c.39.39.9.59 1.41.59.51 0 1.02-.2 1.41-.59l7.78-7.78 2.81-2.81c.8-.78.8-2.07 0-2.86zM5.41 20L4 18.59l7.72-7.72 1.47 1.35L5.41 20z\"/>\n",
              "  </svg>\n",
              "      </button>\n",
              "      \n",
              "  <style>\n",
              "    .colab-df-container {\n",
              "      display:flex;\n",
              "      flex-wrap:wrap;\n",
              "      gap: 12px;\n",
              "    }\n",
              "\n",
              "    .colab-df-convert {\n",
              "      background-color: #E8F0FE;\n",
              "      border: none;\n",
              "      border-radius: 50%;\n",
              "      cursor: pointer;\n",
              "      display: none;\n",
              "      fill: #1967D2;\n",
              "      height: 32px;\n",
              "      padding: 0 0 0 0;\n",
              "      width: 32px;\n",
              "    }\n",
              "\n",
              "    .colab-df-convert:hover {\n",
              "      background-color: #E2EBFA;\n",
              "      box-shadow: 0px 1px 2px rgba(60, 64, 67, 0.3), 0px 1px 3px 1px rgba(60, 64, 67, 0.15);\n",
              "      fill: #174EA6;\n",
              "    }\n",
              "\n",
              "    [theme=dark] .colab-df-convert {\n",
              "      background-color: #3B4455;\n",
              "      fill: #D2E3FC;\n",
              "    }\n",
              "\n",
              "    [theme=dark] .colab-df-convert:hover {\n",
              "      background-color: #434B5C;\n",
              "      box-shadow: 0px 1px 3px 1px rgba(0, 0, 0, 0.15);\n",
              "      filter: drop-shadow(0px 1px 2px rgba(0, 0, 0, 0.3));\n",
              "      fill: #FFFFFF;\n",
              "    }\n",
              "  </style>\n",
              "\n",
              "      <script>\n",
              "        const buttonEl =\n",
              "          document.querySelector('#df-dd97a01b-1403-4d29-93d6-a303f18929e2 button.colab-df-convert');\n",
              "        buttonEl.style.display =\n",
              "          google.colab.kernel.accessAllowed ? 'block' : 'none';\n",
              "\n",
              "        async function convertToInteractive(key) {\n",
              "          const element = document.querySelector('#df-dd97a01b-1403-4d29-93d6-a303f18929e2');\n",
              "          const dataTable =\n",
              "            await google.colab.kernel.invokeFunction('convertToInteractive',\n",
              "                                                     [key], {});\n",
              "          if (!dataTable) return;\n",
              "\n",
              "          const docLinkHtml = 'Like what you see? Visit the ' +\n",
              "            '<a target=\"_blank\" href=https://colab.research.google.com/notebooks/data_table.ipynb>data table notebook</a>'\n",
              "            + ' to learn more about interactive tables.';\n",
              "          element.innerHTML = '';\n",
              "          dataTable['output_type'] = 'display_data';\n",
              "          await google.colab.output.renderOutput(dataTable, element);\n",
              "          const docLink = document.createElement('div');\n",
              "          docLink.innerHTML = docLinkHtml;\n",
              "          element.appendChild(docLink);\n",
              "        }\n",
              "      </script>\n",
              "    </div>\n",
              "  </div>\n",
              "  "
            ]
          },
          "metadata": {},
          "execution_count": 10
        }
      ]
    },
    {
      "cell_type": "code",
      "source": [
        "ratings = adj_matrix.T"
      ],
      "metadata": {
        "id": "_WD5Ejr3gVLm"
      },
      "execution_count": 11,
      "outputs": []
    },
    {
      "cell_type": "code",
      "source": [
        "ratings.loc[1,1]"
      ],
      "metadata": {
        "colab": {
          "base_uri": "https://localhost:8080/"
        },
        "id": "7ZzwEYdpix4H",
        "outputId": "7684f37f-2b45-4cfb-b805-42a33ea77282"
      },
      "execution_count": 12,
      "outputs": [
        {
          "output_type": "execute_result",
          "data": {
            "text/plain": [
              "5.0"
            ]
          },
          "metadata": {},
          "execution_count": 12
        }
      ]
    },
    {
      "cell_type": "code",
      "source": [
        "ratings.loc[:,10]\n",
        "ratings.loc[:,10][ratings.loc[:,10]> 0].shape         #영화 리뷰 개수\n",
        "ratings.loc[:,10][ratings.loc[:,10]>0].value_counts() #영화 리뷰 분포 확인하기"
      ],
      "metadata": {
        "colab": {
          "base_uri": "https://localhost:8080/"
        },
        "id": "zKOv5QsFi2nL",
        "outputId": "768372ae-a10f-4847-c28b-4512bfb43a99"
      },
      "execution_count": 13,
      "outputs": [
        {
          "output_type": "execute_result",
          "data": {
            "text/plain": [
              "4.0    114\n",
              "5.0     54\n",
              "3.0     16\n",
              "Name: 10, dtype: int64"
            ]
          },
          "metadata": {},
          "execution_count": 13
        }
      ]
    },
    {
      "cell_type": "markdown",
      "source": [
        "### A리뷰자,B리뷰자와의 상관계수 구하는 함수 만들기"
      ],
      "metadata": {
        "id": "eNbTN462yn4x"
      }
    },
    {
      "cell_type": "code",
      "source": [
        "from math import sqrt\n",
        "\n",
        "#직접 사람들사이이에 상관계수를 구함\n",
        "#이때 영화평점이 0은 영화를 안봤다는 것이니 생략함\n",
        "\n",
        "\n",
        "\n",
        "def sim_pearson(df,people1,people2):\n",
        "\n",
        "  sumX=0 # X의 합\n",
        "  sumY=0 # Y의 합\n",
        "  sumPowX=0 # X 제곱의 합\n",
        "  sumPowY=0 # Y 제곱의 합\n",
        "  sumXY=0 # X*Y의 합\n",
        "  count=0 #영화 개수\n",
        "\n",
        "\n",
        "  for i,x in enumerate(df.loc[:,people1]):\n",
        "    if x == 0:continue     # 10번 리뷰자의 영화 리뷰 점수가 0이면 이 영화는 리뷰를 안했으니 생략\n",
        "    \n",
        "    if df.loc[i+1,people2] > 0: # enumerate를 하면 i가 0부터 시작하니 i는 1을 더해주고 조건문으로 만약 15번리뷰자의 I+1인덱스명의 리뷰 점수가 0이상 즉 평가를 하였다면 이때 상관계수 계산함 \n",
        "      sumX += x\n",
        "      sumY += df.loc[i+1,people2]\n",
        "      sumPowX+=pow(x,2)\n",
        "      sumPowY+=pow(df.loc[i+1,people2],2)\n",
        "      sumXY+=x*df.loc[i+1,people2]\n",
        "      count+=1\n",
        "\n",
        "  return ( sumXY- ((sumX*sumY)/count) )/ sqrt( (sumPowX - (pow(sumX,2) / count)) * (sumPowY - (pow(sumY,2)/count)))"
      ],
      "metadata": {
        "id": "-7_ujEn3nfyE"
      },
      "execution_count": 9,
      "outputs": []
    },
    {
      "cell_type": "code",
      "source": [
        "sim_pearson(ratings,10,15) #10번 리뷰자와 15번 리뷰자의 상관계수 구해보기 0.35정도 나온다."
      ],
      "metadata": {
        "colab": {
          "base_uri": "https://localhost:8080/"
        },
        "id": "79aDjVGfofmL",
        "outputId": "ce4e52e8-1ad1-439a-cc1c-be52c971147c"
      },
      "execution_count": 51,
      "outputs": [
        {
          "output_type": "execute_result",
          "data": {
            "text/plain": [
              "0.3535533905932744"
            ]
          },
          "metadata": {},
          "execution_count": 51
        }
      ]
    },
    {
      "cell_type": "markdown",
      "source": [
        "# 비슷한 취향을 가진 사람 찾기 with 상관계수"
      ],
      "metadata": {
        "id": "r0QSmS4vyaWw"
      }
    },
    {
      "cell_type": "code",
      "source": [
        "#상관계수를 기준으로 비슷한 취향을 가진 리뷰자 찾기\n",
        "#name은 기준이 되는 사람이고 index는 보여줄 사람의 수 이다.\n",
        "#반복문으로 한명씩 뽑아서 위에서 만든 sim_pearson으로 상관계수를 구해서 넣고 정렬을 해서 상위 index개수만큼 리턴\n",
        "\n",
        "name = 10\n",
        "\n",
        "\n",
        "def top_match(data,name,index,sim_function=sim_pearson):\n",
        "  li = []\n",
        "  for i in range(1,943+1):\n",
        "    if name != i:\n",
        "      li.append((sim_pearson(data,name,i),i))\n",
        "\n",
        "  li.sort()\n",
        "  li.reverse()\n",
        "  return li[:index]\n",
        "\n",
        "\n"
      ],
      "metadata": {
        "id": "ZWpus1JdsCiN"
      },
      "execution_count": 52,
      "outputs": []
    },
    {
      "cell_type": "code",
      "source": [
        "'''\n",
        "결과 해석\n",
        "\n",
        "10번 리뷰자는 636번리뷰자와 689리뷰자와 비슷한 취향을 보이는 것을 알 수 있다.\n",
        "여기서 nan이 나오는 이유는 계산해보니 920번 리뷰자와 상관계수를 계산시에 공통적으로 평가한 영화에 대해서만 구하는데\n",
        "이러면 10번 참가자의 영화 평가점수가 전부 4로 되었어서 Sx가 0이되어서 nan이 나오게 된다.\n",
        "따라서 이 결과는 그냥 무시하자\n",
        "\n",
        "'''\n",
        "\n",
        "top_match(ratings,10,10)\n",
        "\n",
        "\n"
      ],
      "metadata": {
        "colab": {
          "base_uri": "https://localhost:8080/"
        },
        "id": "PAu-QAwzxtwZ",
        "outputId": "89f0f439-dd5b-4a98-cea5-48607c0386e1"
      },
      "execution_count": 53,
      "outputs": [
        {
          "output_type": "stream",
          "name": "stderr",
          "text": [
            "<ipython-input-9-0e0a74ba6fa7>:29: RuntimeWarning: invalid value encountered in double_scalars\n",
            "  return ( sumXY- ((sumX*sumY)/count) )/ sqrt( (sumPowX - (pow(sumX,2) / count)) * (sumPowY - (pow(sumY,2)/count)))\n"
          ]
        },
        {
          "output_type": "execute_result",
          "data": {
            "text/plain": [
              "[(0.9999999999999978, 636),\n",
              " (0.8340576562282991, 689),\n",
              " (0.6018838350906188, 938),\n",
              " (nan, 920),\n",
              " (nan, 915),\n",
              " (0.8783100656536824, 857),\n",
              " (0.845154254728517, 879),\n",
              " (0.7510409442899927, 446),\n",
              " (0.7302967433402221, 852),\n",
              " (0.6882472016116833, 869)]"
            ]
          },
          "metadata": {},
          "execution_count": 53
        }
      ]
    },
    {
      "cell_type": "code",
      "source": [
        "from scipy import stats\n",
        "\n",
        "\n",
        "#위에서 nan이 나오는 것을 증명하기 위해서 아래와 같이 하고 그냥 라이브러리에서 함수를 쓰면\n",
        "#nan이 나오는 것을 확인 할 수 있다.\n",
        "x = [4,4,4,4,4]\n",
        "y = [2,2,4,4,4]\n",
        "\n",
        "stats.pearsonr(x, y)[0] == np.nan"
      ],
      "metadata": {
        "colab": {
          "base_uri": "https://localhost:8080/"
        },
        "id": "GM4c_pVCvgEO",
        "outputId": "d43d1b24-9607-4d33-c13d-3ad86c80d0af"
      },
      "execution_count": null,
      "outputs": [
        {
          "output_type": "stream",
          "name": "stderr",
          "text": [
            "/usr/local/lib/python3.8/dist-packages/scipy/stats/stats.py:4023: PearsonRConstantInputWarning: An input array is constant; the correlation coefficient is not defined.\n",
            "  warnings.warn(PearsonRConstantInputWarning())\n"
          ]
        },
        {
          "output_type": "execute_result",
          "data": {
            "text/plain": [
              "False"
            ]
          },
          "metadata": {},
          "execution_count": 86
        }
      ]
    },
    {
      "cell_type": "code",
      "source": [
        "'''\n",
        "top_match는 한 사람을 기준으로 다른 사람들과의 상관계수를 리턴하는 함수\n",
        "결과는 (유사도,사람이름)이런식으로 리턴함\n",
        "예를 들어 철수에게 영화를 추천한다고 하자.\n",
        "반복문으로 철수와 다른사람과의 상관계수를 각각 name과 sim에 저장\n",
        "만약 sim이 음수이면 다른 사람의 취향은 필요가 없으니 제외\n",
        "먼저 유리의 경우\n",
        "유리가 평가한 영화들을 하나씩 반복으로 뽑아서 이때 그 평가한 영화가 철수가 평가한 영화가 아니여야만 추천함(철수가 보지 않은 영화를 추천해야 하니까)\n",
        "유리가 평가한 영화으 평점과 상관계수를 곱해서 score에 더함\n",
        "score_dic에 영화제목과 score를 설정 \n",
        "sim_dic에는 유리의 상관계수를 더해줌\n",
        "\n",
        "'''\n",
        "\n",
        "\n",
        "\n",
        "\n",
        "def getRecommendation (data,person,sim_function=sim_pearson):\n",
        "    result = top_match(ratings, person ,943)\n",
        "    \n",
        "    simSum=0 # 유사도 합을 위한 변수\n",
        "    score=0 # 평점 합을 위한 변수\n",
        "    li=[] # 리턴을 위한 리스트\n",
        "    score_dic={} # 유사도 총합을 위한 dic\n",
        "    sim_dic={} # 평점 총합을 위한 dic\n",
        " \n",
        "    for sim,name in result: # 튜플이므로 한번에 \n",
        "        if sim<0 : continue #유사도가 양수인 사람만\n",
        "        for movie,x in enumerate(data.loc[:,name]): \n",
        "            if data.loc[movie+1,person] == 0 :     #이때 movie는 index이니 0부터 시작인데 영화는 1번부터이니 1을 더하고 person이 평가를 내리지 않은 영화 즉 리뷰 점수가 0점이면\n",
        "                score+=sim*data.loc[movie+1,name]  # 그사람의 영화평점 * 유사도\n",
        "                score_dic.setdefault(movie+1,0) # 기본값 설정\n",
        "                score_dic[movie+1]+=score # 합계 구함\n",
        " \n",
        "                # 조건에 맞는 사람의 유사도의 누적합을 구한다\n",
        "                sim_dic.setdefault(movie+1,0) \n",
        "                sim_dic[movie+1]+=sim\n",
        " \n",
        "            score=0  #영화가 바뀌었으니 초기화한다\n",
        "    \n",
        "    for key in score_dic: \n",
        "        score_dic[key]=score_dic[key]/sim_dic[key] # 평점 총합/ 유사도 총합\n",
        "        li.append((score_dic[key],key)) # list((tuple))의 리턴을 위해서.\n",
        "    li.sort() #오름차순\n",
        "    li.reverse() #내림차순\n",
        "    return li\n"
      ],
      "metadata": {
        "id": "ZAboT2WT3WzS"
      },
      "execution_count": 55,
      "outputs": []
    },
    {
      "cell_type": "code",
      "source": [
        "res = getRecommendation(ratings,10)\n",
        "\n",
        "for i,movie in res:\n",
        "  if i > 0:\n",
        "    print(i,movie)"
      ],
      "metadata": {
        "colab": {
          "base_uri": "https://localhost:8080/",
          "height": 432
        },
        "id": "cojS4pkC5C5X",
        "outputId": "c4438e6d-073c-4e61-abd8-cb949c2251b4"
      },
      "execution_count": 56,
      "outputs": [
        {
          "output_type": "stream",
          "name": "stderr",
          "text": [
            "<ipython-input-9-0e0a74ba6fa7>:29: RuntimeWarning: invalid value encountered in double_scalars\n",
            "  return ( sumXY- ((sumX*sumY)/count) )/ sqrt( (sumPowX - (pow(sumX,2) / count)) * (sumPowY - (pow(sumY,2)/count)))\n"
          ]
        },
        {
          "output_type": "error",
          "ename": "KeyboardInterrupt",
          "evalue": "ignored",
          "traceback": [
            "\u001b[0;31m---------------------------------------------------------------------------\u001b[0m",
            "\u001b[0;31mKeyboardInterrupt\u001b[0m                         Traceback (most recent call last)",
            "\u001b[0;32m<ipython-input-56-5788d0fc2d28>\u001b[0m in \u001b[0;36m<module>\u001b[0;34m\u001b[0m\n\u001b[0;32m----> 1\u001b[0;31m \u001b[0mres\u001b[0m \u001b[0;34m=\u001b[0m \u001b[0mgetRecommendation\u001b[0m\u001b[0;34m(\u001b[0m\u001b[0mratings\u001b[0m\u001b[0;34m,\u001b[0m\u001b[0;36m10\u001b[0m\u001b[0;34m)\u001b[0m\u001b[0;34m\u001b[0m\u001b[0;34m\u001b[0m\u001b[0m\n\u001b[0m\u001b[1;32m      2\u001b[0m \u001b[0;34m\u001b[0m\u001b[0m\n\u001b[1;32m      3\u001b[0m \u001b[0;32mfor\u001b[0m \u001b[0mi\u001b[0m\u001b[0;34m,\u001b[0m\u001b[0mmovie\u001b[0m \u001b[0;32min\u001b[0m \u001b[0mres\u001b[0m\u001b[0;34m:\u001b[0m\u001b[0;34m\u001b[0m\u001b[0;34m\u001b[0m\u001b[0m\n\u001b[1;32m      4\u001b[0m   \u001b[0;32mif\u001b[0m \u001b[0mi\u001b[0m \u001b[0;34m>\u001b[0m \u001b[0;36m0\u001b[0m\u001b[0;34m:\u001b[0m\u001b[0;34m\u001b[0m\u001b[0;34m\u001b[0m\u001b[0m\n\u001b[1;32m      5\u001b[0m     \u001b[0mprint\u001b[0m\u001b[0;34m(\u001b[0m\u001b[0mi\u001b[0m\u001b[0;34m,\u001b[0m\u001b[0mmovie\u001b[0m\u001b[0;34m)\u001b[0m\u001b[0;34m\u001b[0m\u001b[0;34m\u001b[0m\u001b[0m\n",
            "\u001b[0;32m<ipython-input-55-ac08b4c4a629>\u001b[0m in \u001b[0;36mgetRecommendation\u001b[0;34m(data, person, sim_function)\u001b[0m\n\u001b[1;32m     28\u001b[0m         \u001b[0;32mif\u001b[0m \u001b[0msim\u001b[0m\u001b[0;34m<\u001b[0m\u001b[0;36m0\u001b[0m \u001b[0;34m:\u001b[0m \u001b[0;32mcontinue\u001b[0m \u001b[0;31m#유사도가 양수인 사람만\u001b[0m\u001b[0;34m\u001b[0m\u001b[0;34m\u001b[0m\u001b[0m\n\u001b[1;32m     29\u001b[0m         \u001b[0;32mfor\u001b[0m \u001b[0mmovie\u001b[0m\u001b[0;34m,\u001b[0m\u001b[0mx\u001b[0m \u001b[0;32min\u001b[0m \u001b[0menumerate\u001b[0m\u001b[0;34m(\u001b[0m\u001b[0mdata\u001b[0m\u001b[0;34m.\u001b[0m\u001b[0mloc\u001b[0m\u001b[0;34m[\u001b[0m\u001b[0;34m:\u001b[0m\u001b[0;34m,\u001b[0m\u001b[0mname\u001b[0m\u001b[0;34m]\u001b[0m\u001b[0;34m)\u001b[0m\u001b[0;34m:\u001b[0m\u001b[0;34m\u001b[0m\u001b[0;34m\u001b[0m\u001b[0m\n\u001b[0;32m---> 30\u001b[0;31m             \u001b[0;32mif\u001b[0m \u001b[0mdata\u001b[0m\u001b[0;34m.\u001b[0m\u001b[0mloc\u001b[0m\u001b[0;34m[\u001b[0m\u001b[0mmovie\u001b[0m\u001b[0;34m+\u001b[0m\u001b[0;36m1\u001b[0m\u001b[0;34m,\u001b[0m\u001b[0mperson\u001b[0m\u001b[0;34m]\u001b[0m \u001b[0;34m==\u001b[0m \u001b[0;36m0\u001b[0m \u001b[0;34m:\u001b[0m     \u001b[0;31m#이때 movie는 index이니 0부터 시작인데 영화는 1번부터이니 1을 더하고 person이 평가를 내리지 않은 영화 즉 리뷰 점수가 0점이면\u001b[0m\u001b[0;34m\u001b[0m\u001b[0;34m\u001b[0m\u001b[0m\n\u001b[0m\u001b[1;32m     31\u001b[0m                 \u001b[0mscore\u001b[0m\u001b[0;34m+=\u001b[0m\u001b[0msim\u001b[0m\u001b[0;34m*\u001b[0m\u001b[0mdata\u001b[0m\u001b[0;34m.\u001b[0m\u001b[0mloc\u001b[0m\u001b[0;34m[\u001b[0m\u001b[0mmovie\u001b[0m\u001b[0;34m+\u001b[0m\u001b[0;36m1\u001b[0m\u001b[0;34m,\u001b[0m\u001b[0mname\u001b[0m\u001b[0;34m]\u001b[0m  \u001b[0;31m# 그사람의 영화평점 * 유사도\u001b[0m\u001b[0;34m\u001b[0m\u001b[0;34m\u001b[0m\u001b[0m\n\u001b[1;32m     32\u001b[0m                 \u001b[0mscore_dic\u001b[0m\u001b[0;34m.\u001b[0m\u001b[0msetdefault\u001b[0m\u001b[0;34m(\u001b[0m\u001b[0mmovie\u001b[0m\u001b[0;34m+\u001b[0m\u001b[0;36m1\u001b[0m\u001b[0;34m,\u001b[0m\u001b[0;36m0\u001b[0m\u001b[0;34m)\u001b[0m \u001b[0;31m# 기본값 설정\u001b[0m\u001b[0;34m\u001b[0m\u001b[0;34m\u001b[0m\u001b[0m\n",
            "\u001b[0;32m/usr/local/lib/python3.8/dist-packages/pandas/core/indexing.py\u001b[0m in \u001b[0;36m__getitem__\u001b[0;34m(self, key)\u001b[0m\n\u001b[1;32m    919\u001b[0m         \u001b[0;32mif\u001b[0m \u001b[0mtype\u001b[0m\u001b[0;34m(\u001b[0m\u001b[0mkey\u001b[0m\u001b[0;34m)\u001b[0m \u001b[0;32mis\u001b[0m \u001b[0mtuple\u001b[0m\u001b[0;34m:\u001b[0m\u001b[0;34m\u001b[0m\u001b[0;34m\u001b[0m\u001b[0m\n\u001b[1;32m    920\u001b[0m             \u001b[0mkey\u001b[0m \u001b[0;34m=\u001b[0m \u001b[0mtuple\u001b[0m\u001b[0;34m(\u001b[0m\u001b[0mlist\u001b[0m\u001b[0;34m(\u001b[0m\u001b[0mx\u001b[0m\u001b[0;34m)\u001b[0m \u001b[0;32mif\u001b[0m \u001b[0mis_iterator\u001b[0m\u001b[0;34m(\u001b[0m\u001b[0mx\u001b[0m\u001b[0;34m)\u001b[0m \u001b[0;32melse\u001b[0m \u001b[0mx\u001b[0m \u001b[0;32mfor\u001b[0m \u001b[0mx\u001b[0m \u001b[0;32min\u001b[0m \u001b[0mkey\u001b[0m\u001b[0;34m)\u001b[0m\u001b[0;34m\u001b[0m\u001b[0;34m\u001b[0m\u001b[0m\n\u001b[0;32m--> 921\u001b[0;31m             \u001b[0mkey\u001b[0m \u001b[0;34m=\u001b[0m \u001b[0mtuple\u001b[0m\u001b[0;34m(\u001b[0m\u001b[0mcom\u001b[0m\u001b[0;34m.\u001b[0m\u001b[0mapply_if_callable\u001b[0m\u001b[0;34m(\u001b[0m\u001b[0mx\u001b[0m\u001b[0;34m,\u001b[0m \u001b[0mself\u001b[0m\u001b[0;34m.\u001b[0m\u001b[0mobj\u001b[0m\u001b[0;34m)\u001b[0m \u001b[0;32mfor\u001b[0m \u001b[0mx\u001b[0m \u001b[0;32min\u001b[0m \u001b[0mkey\u001b[0m\u001b[0;34m)\u001b[0m\u001b[0;34m\u001b[0m\u001b[0;34m\u001b[0m\u001b[0m\n\u001b[0m\u001b[1;32m    922\u001b[0m             \u001b[0;32mif\u001b[0m \u001b[0mself\u001b[0m\u001b[0;34m.\u001b[0m\u001b[0m_is_scalar_access\u001b[0m\u001b[0;34m(\u001b[0m\u001b[0mkey\u001b[0m\u001b[0;34m)\u001b[0m\u001b[0;34m:\u001b[0m\u001b[0;34m\u001b[0m\u001b[0;34m\u001b[0m\u001b[0m\n\u001b[1;32m    923\u001b[0m                 \u001b[0;32mwith\u001b[0m \u001b[0msuppress\u001b[0m\u001b[0;34m(\u001b[0m\u001b[0mKeyError\u001b[0m\u001b[0;34m,\u001b[0m \u001b[0mIndexError\u001b[0m\u001b[0;34m)\u001b[0m\u001b[0;34m:\u001b[0m\u001b[0;34m\u001b[0m\u001b[0;34m\u001b[0m\u001b[0m\n",
            "\u001b[0;32m/usr/local/lib/python3.8/dist-packages/pandas/core/indexing.py\u001b[0m in \u001b[0;36m<genexpr>\u001b[0;34m(.0)\u001b[0m\n\u001b[1;32m    919\u001b[0m         \u001b[0;32mif\u001b[0m \u001b[0mtype\u001b[0m\u001b[0;34m(\u001b[0m\u001b[0mkey\u001b[0m\u001b[0;34m)\u001b[0m \u001b[0;32mis\u001b[0m \u001b[0mtuple\u001b[0m\u001b[0;34m:\u001b[0m\u001b[0;34m\u001b[0m\u001b[0;34m\u001b[0m\u001b[0m\n\u001b[1;32m    920\u001b[0m             \u001b[0mkey\u001b[0m \u001b[0;34m=\u001b[0m \u001b[0mtuple\u001b[0m\u001b[0;34m(\u001b[0m\u001b[0mlist\u001b[0m\u001b[0;34m(\u001b[0m\u001b[0mx\u001b[0m\u001b[0;34m)\u001b[0m \u001b[0;32mif\u001b[0m \u001b[0mis_iterator\u001b[0m\u001b[0;34m(\u001b[0m\u001b[0mx\u001b[0m\u001b[0;34m)\u001b[0m \u001b[0;32melse\u001b[0m \u001b[0mx\u001b[0m \u001b[0;32mfor\u001b[0m \u001b[0mx\u001b[0m \u001b[0;32min\u001b[0m \u001b[0mkey\u001b[0m\u001b[0;34m)\u001b[0m\u001b[0;34m\u001b[0m\u001b[0;34m\u001b[0m\u001b[0m\n\u001b[0;32m--> 921\u001b[0;31m             \u001b[0mkey\u001b[0m \u001b[0;34m=\u001b[0m \u001b[0mtuple\u001b[0m\u001b[0;34m(\u001b[0m\u001b[0mcom\u001b[0m\u001b[0;34m.\u001b[0m\u001b[0mapply_if_callable\u001b[0m\u001b[0;34m(\u001b[0m\u001b[0mx\u001b[0m\u001b[0;34m,\u001b[0m \u001b[0mself\u001b[0m\u001b[0;34m.\u001b[0m\u001b[0mobj\u001b[0m\u001b[0;34m)\u001b[0m \u001b[0;32mfor\u001b[0m \u001b[0mx\u001b[0m \u001b[0;32min\u001b[0m \u001b[0mkey\u001b[0m\u001b[0;34m)\u001b[0m\u001b[0;34m\u001b[0m\u001b[0;34m\u001b[0m\u001b[0m\n\u001b[0m\u001b[1;32m    922\u001b[0m             \u001b[0;32mif\u001b[0m \u001b[0mself\u001b[0m\u001b[0;34m.\u001b[0m\u001b[0m_is_scalar_access\u001b[0m\u001b[0;34m(\u001b[0m\u001b[0mkey\u001b[0m\u001b[0;34m)\u001b[0m\u001b[0;34m:\u001b[0m\u001b[0;34m\u001b[0m\u001b[0;34m\u001b[0m\u001b[0m\n\u001b[1;32m    923\u001b[0m                 \u001b[0;32mwith\u001b[0m \u001b[0msuppress\u001b[0m\u001b[0;34m(\u001b[0m\u001b[0mKeyError\u001b[0m\u001b[0;34m,\u001b[0m \u001b[0mIndexError\u001b[0m\u001b[0;34m)\u001b[0m\u001b[0;34m:\u001b[0m\u001b[0;34m\u001b[0m\u001b[0;34m\u001b[0m\u001b[0m\n",
            "\u001b[0;32m/usr/local/lib/python3.8/dist-packages/pandas/core/common.py\u001b[0m in \u001b[0;36mapply_if_callable\u001b[0;34m(maybe_callable, obj, **kwargs)\u001b[0m\n\u001b[1;32m    355\u001b[0m     \u001b[0;34m**\u001b[0m\u001b[0mkwargs\u001b[0m\u001b[0;34m\u001b[0m\u001b[0;34m\u001b[0m\u001b[0m\n\u001b[1;32m    356\u001b[0m     \"\"\"\n\u001b[0;32m--> 357\u001b[0;31m     \u001b[0;32mif\u001b[0m \u001b[0mcallable\u001b[0m\u001b[0;34m(\u001b[0m\u001b[0mmaybe_callable\u001b[0m\u001b[0;34m)\u001b[0m\u001b[0;34m:\u001b[0m\u001b[0;34m\u001b[0m\u001b[0;34m\u001b[0m\u001b[0m\n\u001b[0m\u001b[1;32m    358\u001b[0m         \u001b[0;32mreturn\u001b[0m \u001b[0mmaybe_callable\u001b[0m\u001b[0;34m(\u001b[0m\u001b[0mobj\u001b[0m\u001b[0;34m,\u001b[0m \u001b[0;34m**\u001b[0m\u001b[0mkwargs\u001b[0m\u001b[0;34m)\u001b[0m\u001b[0;34m\u001b[0m\u001b[0;34m\u001b[0m\u001b[0m\n\u001b[1;32m    359\u001b[0m \u001b[0;34m\u001b[0m\u001b[0m\n",
            "\u001b[0;31mKeyboardInterrupt\u001b[0m: "
          ]
        }
      ]
    },
    {
      "cell_type": "code",
      "source": [
        "# result = top_match(tt, 10 ,943)\n",
        "    \n",
        "# simSum=0 # 유사도 합을 위한 변수\n",
        "# score=0 # 평점 합을 위한 변수\n",
        "# li=[] # 리턴을 위한 리스트\n",
        "# score_dic={} # 유사도 총합을 위한 dic\n",
        "# sim_dic={} # 평점 총합을 위한 dic\n",
        "\n",
        "# for sim,name in result: # 튜플이므로 한번에 이때 name은 다른 사람 한명을 의미하고 sim은 그 사람과의 상관계수이다. \n",
        "#     if sim<0 : continue #유사도가 양수인 사람만 보기 위해서 음수는 제외\n",
        "#     for movie,x in enumerate(tt.loc[:,name]): # 다른 사람을 기준으로 영화와 영화 평점을 불러옴 \n",
        "#         if tt.loc[movie+1,10] == 0 :     #이때 movie는 index이니 0부터 시작인데 영화는 1번부터이니 1을 더하고 person이 평가를 내리지 않은 영화 즉 리뷰 점수가 0점이면\n",
        "#             score+=sim*tt.loc[movie+1,name]  # 그사람의 영화평점 * 유사도\n",
        "#             score_dic.setdefault(movie+1,0) # 기본값 설정\n",
        "#             score_dic[movie+1]+=score # 합계 구함\n",
        "\n",
        "#             sim_dic.setdefault(movie+1,0) \n",
        "#             sim_dic[movie+1]+=sim\n",
        "\n",
        "# score_dic\n"
      ],
      "metadata": {
        "id": "NmIyjMCV58hZ"
      },
      "execution_count": null,
      "outputs": []
    },
    {
      "cell_type": "code",
      "source": [
        "import math\n",
        "#코사인 유사도 함수를 구현\n",
        "\n",
        "def sim_cosine(tt, name1, name2):\n",
        "    vsize_name1 = 0\n",
        "    vsize_name2 = 0\n",
        "    product_sum = 0\n",
        "    \n",
        "    for title,x in enumerate(tt.loc[:,name1]): #사람1의 영화 이름과 영화 평점을 반복함\n",
        "        if tt.loc[title+1,name2] > 0:\n",
        "            vsize_name1 += pow(tt.loc[title+1,name1], 2)\n",
        "            vsize_name2 += pow(tt.loc[title+1,name2], 2)\n",
        "            \n",
        "            product_sum += tt.loc[title+1,name1]*tt.loc[title+1,name2]\n",
        "            \n",
        "    sim_cosine = product_sum/(math.sqrt(vsize_name1)*math.sqrt(vsize_name2))\n",
        "\n",
        "    \n",
        "    return sim_cosine"
      ],
      "metadata": {
        "id": "zPGe-7SALdco"
      },
      "execution_count": 14,
      "outputs": []
    },
    {
      "cell_type": "code",
      "source": [
        "sim_cosine(ratings,10,15)"
      ],
      "metadata": {
        "colab": {
          "base_uri": "https://localhost:8080/"
        },
        "id": "nyptdHmXMg5E",
        "outputId": "ca2ad950-3950-42a3-f781-ef7b875e4ae8"
      },
      "execution_count": 15,
      "outputs": [
        {
          "output_type": "execute_result",
          "data": {
            "text/plain": [
              "0.38740409084840915"
            ]
          },
          "metadata": {},
          "execution_count": 15
        }
      ]
    },
    {
      "cell_type": "markdown",
      "source": [
        "### 특정 사람에게 영화 추천하는 함수 만들기 with 코사인 유사도"
      ],
      "metadata": {
        "id": "f0llKfhAXbyJ"
      }
    },
    {
      "cell_type": "code",
      "source": [
        "'''\n",
        "어떤 사람에게 추천을 해준다고 가정하자\n",
        "\n",
        "이 사람에게 본 적이 없는 영화를 추천해야 함!!\n",
        "그러면 본 적이 없는 영화들을 기준으로 얘네의 예상 평점을 예측한 다음에 \n",
        "높은 평점의 영화를 추천하는 과정이 필요함\n",
        "\n",
        "\n",
        "'''\n",
        "\n",
        "#먼저 그냥 10개의 더미데이터만을 이용한다고 가정하자\n",
        "\n",
        "\n",
        "\n",
        "li_sc = []\n",
        "for i in range(1,11):\n",
        "  if i == 11:\n",
        "    continue\n",
        "  li_sc.append((sim_cosine(ratings,11,i),i))\n",
        "\n",
        "\n",
        "\n",
        "# 11번의 리뷰자에게 영화추천을 한다고 가정하자\n",
        "# 1~10번의 사람끼리 유사도를 구한 리스트\n",
        "li_sc\n"
      ],
      "metadata": {
        "colab": {
          "base_uri": "https://localhost:8080/"
        },
        "id": "O0WCH5NNQGyn",
        "outputId": "9ad270ae-66ec-4888-f31c-e28e494a6ced"
      },
      "execution_count": 59,
      "outputs": [
        {
          "output_type": "execute_result",
          "data": {
            "text/plain": [
              "[(0.5007693547018028, 1),\n",
              " (0.43356607298305033, 2),\n",
              " (0.30635640933865294, 3),\n",
              " (0.5104952457370763, 4),\n",
              " (0.5876538063498529, 5),\n",
              " (0.4440957494938214, 6),\n",
              " (0.4998539829408801, 7),\n",
              " (0.5489060687771866, 8),\n",
              " (0.3614459383607071, 9),\n",
              " (0.46784947750425593, 10)]"
            ]
          },
          "metadata": {},
          "execution_count": 59
        }
      ]
    },
    {
      "cell_type": "markdown",
      "source": [
        "예측을 할때는 영화를 평론한 사람들과의 유사도를 곱해서 더하고 유사도의 총합으로 나눠서 평점을 예측함"
      ],
      "metadata": {
        "id": "PZOMWOdIXm0b"
      }
    },
    {
      "cell_type": "code",
      "source": [
        "#영화를 평론하지 않은 데이터 중에서 \n",
        "#10번영화의 평점을 예측해보자\n",
        "li_sc\n",
        "sum_sc    = 0\n",
        "weight_sc = 0\n",
        "\n",
        "for i in range(1,10+1):\n",
        "  if ratings.loc[10,i] > 0:\n",
        "    sum_sc    += ratings.loc[10,i] * li_sc[i][0]\n",
        "    weight_sc += li_sc[i][0]\n",
        "\n",
        "sum_sc/weight_sc"
      ],
      "metadata": {
        "colab": {
          "base_uri": "https://localhost:8080/"
        },
        "id": "NAthR2x9UR9H",
        "outputId": "63555b05-3cdd-4547-cd98-c0629557df1a"
      },
      "execution_count": 60,
      "outputs": [
        {
          "output_type": "execute_result",
          "data": {
            "text/plain": [
              "3.1881938906705085"
            ]
          },
          "metadata": {},
          "execution_count": 60
        }
      ]
    },
    {
      "cell_type": "code",
      "source": [
        "#이제는 더미로 11번 사람에게 1~20번 영화중에 아직 보지 않은 영화들을 추천함\n",
        "#이때 1-10번 리뷰자들을 이용함\n",
        "#이때 sum_sc는 영화평점의 총합이고 weight_sc는 유사도의 총합\n",
        "#영화 id : 영화 평점을 리턴한다.\n",
        "\n",
        "di = {}\n",
        "\n",
        "for i in range(1,20+1):\n",
        "  if ratings.loc[i,11] == 0:\n",
        "    sum_sc    = 0\n",
        "    weight_sc = 0\n",
        "\n",
        "    for j in range(1,10+1):\n",
        "      if ratings.loc[i,j] > 0:\n",
        "        sum_sc    += ratings.loc[i,j] * li_sc[j-1][0]\n",
        "        weight_sc += li_sc[j-1][0]\n",
        "        temp = sum_sc/weight_sc\n",
        "        di[i] = temp\n",
        "\n",
        "\n",
        "di\n",
        "\n"
      ],
      "metadata": {
        "id": "qsw7196PcMyj",
        "outputId": "12a4d826-ebca-480b-92c0-d9ed40876483",
        "colab": {
          "base_uri": "https://localhost:8080/"
        }
      },
      "execution_count": 61,
      "outputs": [
        {
          "output_type": "execute_result",
          "data": {
            "text/plain": [
              "{1: 4.205744798275839,\n",
              " 2: 3.0,\n",
              " 3: 4.0,\n",
              " 4: 3.9993766505232644,\n",
              " 5: 3.0,\n",
              " 6: 5.0,\n",
              " 7: 3.667987971679481,\n",
              " 10: 3.046219773669162,\n",
              " 13: 3.5367596905590855,\n",
              " 14: 4.685464112999491,\n",
              " 16: 4.516993205223241,\n",
              " 17: 3.5399129928308857,\n",
              " 18: 4.0,\n",
              " 19: 4.048753454529592,\n",
              " 20: 4.0}"
            ]
          },
          "metadata": {},
          "execution_count": 61
        }
      ]
    },
    {
      "cell_type": "markdown",
      "source": [
        "### 저럴경우에는 6번,14번 영화와 16번 영화를 추천하게 된다!!"
      ],
      "metadata": {
        "id": "Tg2VWh_eehgs"
      }
    },
    {
      "cell_type": "markdown",
      "source": [
        "### 이제 함수로 구현을 해보자"
      ],
      "metadata": {
        "id": "0oyeVKUceos5"
      }
    },
    {
      "cell_type": "code",
      "source": [
        "ratings.shape"
      ],
      "metadata": {
        "id": "rAoWlNvAE5De",
        "outputId": "b915cad3-b89a-4ff0-e85c-f6b39d08fd6a",
        "colab": {
          "base_uri": "https://localhost:8080/"
        }
      },
      "execution_count": 85,
      "outputs": [
        {
          "output_type": "execute_result",
          "data": {
            "text/plain": [
              "(1682, 943)"
            ]
          },
          "metadata": {},
          "execution_count": 85
        }
      ]
    },
    {
      "cell_type": "code",
      "source": [
        "ratings.head(3)"
      ],
      "metadata": {
        "id": "3JgUS1dXA2pb",
        "outputId": "c7905e5f-9086-4e66-ac24-bbabe0da07e4",
        "colab": {
          "base_uri": "https://localhost:8080/",
          "height": 204
        }
      },
      "execution_count": 69,
      "outputs": [
        {
          "output_type": "execute_result",
          "data": {
            "text/plain": [
              "userId   1    2    3    4    5    6    7    8    9    10   ...  934  935  936  \\\n",
              "movieId                                                    ...                  \n",
              "1        5.0  4.0  0.0  0.0  4.0  4.0  0.0  0.0  0.0  4.0  ...  2.0  3.0  4.0   \n",
              "2        3.0  0.0  0.0  0.0  3.0  0.0  0.0  0.0  0.0  0.0  ...  4.0  0.0  0.0   \n",
              "3        4.0  0.0  0.0  0.0  0.0  0.0  0.0  0.0  0.0  0.0  ...  0.0  0.0  4.0   \n",
              "\n",
              "userId   937  938  939  940  941  942  943  \n",
              "movieId                                     \n",
              "1        0.0  4.0  0.0  0.0  5.0  0.0  0.0  \n",
              "2        0.0  0.0  0.0  0.0  0.0  0.0  5.0  \n",
              "3        0.0  0.0  0.0  0.0  0.0  0.0  0.0  \n",
              "\n",
              "[3 rows x 943 columns]"
            ],
            "text/html": [
              "\n",
              "  <div id=\"df-5f8afccd-cf19-4975-a17e-db1e36a5062c\">\n",
              "    <div class=\"colab-df-container\">\n",
              "      <div>\n",
              "<style scoped>\n",
              "    .dataframe tbody tr th:only-of-type {\n",
              "        vertical-align: middle;\n",
              "    }\n",
              "\n",
              "    .dataframe tbody tr th {\n",
              "        vertical-align: top;\n",
              "    }\n",
              "\n",
              "    .dataframe thead th {\n",
              "        text-align: right;\n",
              "    }\n",
              "</style>\n",
              "<table border=\"1\" class=\"dataframe\">\n",
              "  <thead>\n",
              "    <tr style=\"text-align: right;\">\n",
              "      <th>userId</th>\n",
              "      <th>1</th>\n",
              "      <th>2</th>\n",
              "      <th>3</th>\n",
              "      <th>4</th>\n",
              "      <th>5</th>\n",
              "      <th>6</th>\n",
              "      <th>7</th>\n",
              "      <th>8</th>\n",
              "      <th>9</th>\n",
              "      <th>10</th>\n",
              "      <th>...</th>\n",
              "      <th>934</th>\n",
              "      <th>935</th>\n",
              "      <th>936</th>\n",
              "      <th>937</th>\n",
              "      <th>938</th>\n",
              "      <th>939</th>\n",
              "      <th>940</th>\n",
              "      <th>941</th>\n",
              "      <th>942</th>\n",
              "      <th>943</th>\n",
              "    </tr>\n",
              "    <tr>\n",
              "      <th>movieId</th>\n",
              "      <th></th>\n",
              "      <th></th>\n",
              "      <th></th>\n",
              "      <th></th>\n",
              "      <th></th>\n",
              "      <th></th>\n",
              "      <th></th>\n",
              "      <th></th>\n",
              "      <th></th>\n",
              "      <th></th>\n",
              "      <th></th>\n",
              "      <th></th>\n",
              "      <th></th>\n",
              "      <th></th>\n",
              "      <th></th>\n",
              "      <th></th>\n",
              "      <th></th>\n",
              "      <th></th>\n",
              "      <th></th>\n",
              "      <th></th>\n",
              "      <th></th>\n",
              "    </tr>\n",
              "  </thead>\n",
              "  <tbody>\n",
              "    <tr>\n",
              "      <th>1</th>\n",
              "      <td>5.0</td>\n",
              "      <td>4.0</td>\n",
              "      <td>0.0</td>\n",
              "      <td>0.0</td>\n",
              "      <td>4.0</td>\n",
              "      <td>4.0</td>\n",
              "      <td>0.0</td>\n",
              "      <td>0.0</td>\n",
              "      <td>0.0</td>\n",
              "      <td>4.0</td>\n",
              "      <td>...</td>\n",
              "      <td>2.0</td>\n",
              "      <td>3.0</td>\n",
              "      <td>4.0</td>\n",
              "      <td>0.0</td>\n",
              "      <td>4.0</td>\n",
              "      <td>0.0</td>\n",
              "      <td>0.0</td>\n",
              "      <td>5.0</td>\n",
              "      <td>0.0</td>\n",
              "      <td>0.0</td>\n",
              "    </tr>\n",
              "    <tr>\n",
              "      <th>2</th>\n",
              "      <td>3.0</td>\n",
              "      <td>0.0</td>\n",
              "      <td>0.0</td>\n",
              "      <td>0.0</td>\n",
              "      <td>3.0</td>\n",
              "      <td>0.0</td>\n",
              "      <td>0.0</td>\n",
              "      <td>0.0</td>\n",
              "      <td>0.0</td>\n",
              "      <td>0.0</td>\n",
              "      <td>...</td>\n",
              "      <td>4.0</td>\n",
              "      <td>0.0</td>\n",
              "      <td>0.0</td>\n",
              "      <td>0.0</td>\n",
              "      <td>0.0</td>\n",
              "      <td>0.0</td>\n",
              "      <td>0.0</td>\n",
              "      <td>0.0</td>\n",
              "      <td>0.0</td>\n",
              "      <td>5.0</td>\n",
              "    </tr>\n",
              "    <tr>\n",
              "      <th>3</th>\n",
              "      <td>4.0</td>\n",
              "      <td>0.0</td>\n",
              "      <td>0.0</td>\n",
              "      <td>0.0</td>\n",
              "      <td>0.0</td>\n",
              "      <td>0.0</td>\n",
              "      <td>0.0</td>\n",
              "      <td>0.0</td>\n",
              "      <td>0.0</td>\n",
              "      <td>0.0</td>\n",
              "      <td>...</td>\n",
              "      <td>0.0</td>\n",
              "      <td>0.0</td>\n",
              "      <td>4.0</td>\n",
              "      <td>0.0</td>\n",
              "      <td>0.0</td>\n",
              "      <td>0.0</td>\n",
              "      <td>0.0</td>\n",
              "      <td>0.0</td>\n",
              "      <td>0.0</td>\n",
              "      <td>0.0</td>\n",
              "    </tr>\n",
              "  </tbody>\n",
              "</table>\n",
              "<p>3 rows × 943 columns</p>\n",
              "</div>\n",
              "      <button class=\"colab-df-convert\" onclick=\"convertToInteractive('df-5f8afccd-cf19-4975-a17e-db1e36a5062c')\"\n",
              "              title=\"Convert this dataframe to an interactive table.\"\n",
              "              style=\"display:none;\">\n",
              "        \n",
              "  <svg xmlns=\"http://www.w3.org/2000/svg\" height=\"24px\"viewBox=\"0 0 24 24\"\n",
              "       width=\"24px\">\n",
              "    <path d=\"M0 0h24v24H0V0z\" fill=\"none\"/>\n",
              "    <path d=\"M18.56 5.44l.94 2.06.94-2.06 2.06-.94-2.06-.94-.94-2.06-.94 2.06-2.06.94zm-11 1L8.5 8.5l.94-2.06 2.06-.94-2.06-.94L8.5 2.5l-.94 2.06-2.06.94zm10 10l.94 2.06.94-2.06 2.06-.94-2.06-.94-.94-2.06-.94 2.06-2.06.94z\"/><path d=\"M17.41 7.96l-1.37-1.37c-.4-.4-.92-.59-1.43-.59-.52 0-1.04.2-1.43.59L10.3 9.45l-7.72 7.72c-.78.78-.78 2.05 0 2.83L4 21.41c.39.39.9.59 1.41.59.51 0 1.02-.2 1.41-.59l7.78-7.78 2.81-2.81c.8-.78.8-2.07 0-2.86zM5.41 20L4 18.59l7.72-7.72 1.47 1.35L5.41 20z\"/>\n",
              "  </svg>\n",
              "      </button>\n",
              "      \n",
              "  <style>\n",
              "    .colab-df-container {\n",
              "      display:flex;\n",
              "      flex-wrap:wrap;\n",
              "      gap: 12px;\n",
              "    }\n",
              "\n",
              "    .colab-df-convert {\n",
              "      background-color: #E8F0FE;\n",
              "      border: none;\n",
              "      border-radius: 50%;\n",
              "      cursor: pointer;\n",
              "      display: none;\n",
              "      fill: #1967D2;\n",
              "      height: 32px;\n",
              "      padding: 0 0 0 0;\n",
              "      width: 32px;\n",
              "    }\n",
              "\n",
              "    .colab-df-convert:hover {\n",
              "      background-color: #E2EBFA;\n",
              "      box-shadow: 0px 1px 2px rgba(60, 64, 67, 0.3), 0px 1px 3px 1px rgba(60, 64, 67, 0.15);\n",
              "      fill: #174EA6;\n",
              "    }\n",
              "\n",
              "    [theme=dark] .colab-df-convert {\n",
              "      background-color: #3B4455;\n",
              "      fill: #D2E3FC;\n",
              "    }\n",
              "\n",
              "    [theme=dark] .colab-df-convert:hover {\n",
              "      background-color: #434B5C;\n",
              "      box-shadow: 0px 1px 3px 1px rgba(0, 0, 0, 0.15);\n",
              "      filter: drop-shadow(0px 1px 2px rgba(0, 0, 0, 0.3));\n",
              "      fill: #FFFFFF;\n",
              "    }\n",
              "  </style>\n",
              "\n",
              "      <script>\n",
              "        const buttonEl =\n",
              "          document.querySelector('#df-5f8afccd-cf19-4975-a17e-db1e36a5062c button.colab-df-convert');\n",
              "        buttonEl.style.display =\n",
              "          google.colab.kernel.accessAllowed ? 'block' : 'none';\n",
              "\n",
              "        async function convertToInteractive(key) {\n",
              "          const element = document.querySelector('#df-5f8afccd-cf19-4975-a17e-db1e36a5062c');\n",
              "          const dataTable =\n",
              "            await google.colab.kernel.invokeFunction('convertToInteractive',\n",
              "                                                     [key], {});\n",
              "          if (!dataTable) return;\n",
              "\n",
              "          const docLinkHtml = 'Like what you see? Visit the ' +\n",
              "            '<a target=\"_blank\" href=https://colab.research.google.com/notebooks/data_table.ipynb>data table notebook</a>'\n",
              "            + ' to learn more about interactive tables.';\n",
              "          element.innerHTML = '';\n",
              "          dataTable['output_type'] = 'display_data';\n",
              "          await google.colab.output.renderOutput(dataTable, element);\n",
              "          const docLink = document.createElement('div');\n",
              "          docLink.innerHTML = docLinkHtml;\n",
              "          element.appendChild(docLink);\n",
              "        }\n",
              "      </script>\n",
              "    </div>\n",
              "  </div>\n",
              "  "
            ]
          },
          "metadata": {},
          "execution_count": 69
        }
      ]
    },
    {
      "cell_type": "code",
      "source": [
        "ratings.loc[1682,51]"
      ],
      "metadata": {
        "id": "S3IGX_xzBBTQ",
        "outputId": "d9d75f5a-e0d0-41ed-b784-3ee6772abd9e",
        "colab": {
          "base_uri": "https://localhost:8080/"
        }
      },
      "execution_count": 71,
      "outputs": [
        {
          "output_type": "execute_result",
          "data": {
            "text/plain": [
              "0.0"
            ]
          },
          "metadata": {},
          "execution_count": 71
        }
      ]
    },
    {
      "cell_type": "code",
      "source": [],
      "metadata": {
        "id": "1IT1U-pKEF_w",
        "outputId": "5efa9266-12fc-43b6-d58b-9dc026dc92d8",
        "colab": {
          "base_uri": "https://localhost:8080/"
        }
      },
      "execution_count": 115,
      "outputs": [
        {
          "output_type": "stream",
          "name": "stderr",
          "text": [
            "<ipython-input-57-b9ea3d59ddce>:16: RuntimeWarning: invalid value encountered in double_scalars\n",
            "  sim_cosine = product_sum/(math.sqrt(vsize_name1)*math.sqrt(vsize_name2))\n"
          ]
        }
      ]
    },
    {
      "cell_type": "code",
      "source": [
        "li_sc[1]"
      ],
      "metadata": {
        "id": "p3S3NqN7ExFc",
        "outputId": "76944ffe-b607-41cd-92c2-baac2758ae3f",
        "colab": {
          "base_uri": "https://localhost:8080/"
        }
      },
      "execution_count": 89,
      "outputs": [
        {
          "output_type": "execute_result",
          "data": {
            "text/plain": [
              "(0.24829494511715572, 1)"
            ]
          },
          "metadata": {},
          "execution_count": 89
        }
      ]
    },
    {
      "cell_type": "code",
      "source": [],
      "metadata": {
        "id": "4iLzdL1mIRIG"
      },
      "execution_count": 123,
      "outputs": []
    },
    {
      "cell_type": "code",
      "source": [
        "# people는 어떤 사람에게 예측을 해 줄 것인가\n",
        "# max_moive는 몇번영화까지중에서 영화 추천을 할 것인지 예를들어 얘가 100이면 100번영화까지 안 본것의 예측\n",
        "# max_reviewer는 몇명을 이용해서 리뷰를 예측 할 것인가??\n",
        "\n",
        "# 이때 햇갈리니 51리뷰자에게 추천을 할 경우에는 1-50리뷰자를 가지고 하자\n",
        "# range()를 써서 나중에 바꾸겠지만 지금은 일단 연속적인 데이터를 사용하자\n",
        "\n",
        "# 51번자 사용자에게 100개영화중에서 안본것들의 평점을 예측하기\n",
        "\n",
        "def recomm(tt,people,max_movie=1682,max_reviewer = 943):\n",
        "  li_sc = []                          #예측해줄 사람에게 다른 사람과의 유사도를 저장할 리스트\n",
        "  li_sc.append(0)\n",
        "                                      \n",
        "  for i in range(1,943+1):             #먼저 여기서 기준이 되는 people과 다른 사람들과의 유사도를 구하고 li_sc에 저장한다.\n",
        "    li_sc.append((sim_cosine(ratings,people,i),i))\n",
        "\n",
        "\n",
        "  di = {}\n",
        "\n",
        "  for i in range(1,max_movie+1):\n",
        "    if tt.loc[i,people] == 0:                            # 만약 영화 평점이 0이면 안 본 영화이니 이를 예측\n",
        "      sum_sc    = 0                                      # 영화 평점\n",
        "      weight_sc = 0                                      # 유사도 총합을 저장할 변수\n",
        "\n",
        "      for j in range(1,max_reviewer+1):\n",
        "        if tt.loc[i,j] > 0:                             # 만약 i번의 영화를 j번 리뷰자가 평가를 했다면\n",
        "          sum_sc    += tt.loc[i,j] * li_sc[j][0]      # 그 영화의 평점과 유사도를 곱해서 sum_sc에 더해놓음 이때 li_sc는 리스트이니 j번리뷰자는 j-1인덱스에 저장되니 j-1임\n",
        "          weight_sc += li_sc[j][0]                    # 유사도도 나중에 쓰려고 더해놓음\n",
        "      temp = sum_sc/weight_sc                       # temp에 예측된 평점을 저장해서 di에 i번영화주소에 할당함\n",
        "      di[i] = temp\n",
        "\n",
        "  \n",
        "  \n",
        "  \n",
        "  for i,x in di.items():                                # 예측된 평점이 있는 영화중에서 4.5이상만 출력해줘서 얘네의 예상평점이 높으니 얘네를 추천함\n",
        "    if x > 4.5:\n",
        "      print(i,x)\n",
        "    \n"
      ],
      "metadata": {
        "id": "R0M5mCifen6d"
      },
      "execution_count": 16,
      "outputs": []
    },
    {
      "cell_type": "code",
      "source": [
        "recomm(ratings,51)"
      ],
      "metadata": {
        "id": "-veTD64KDFeC",
        "outputId": "fcc8a920-5fb3-434b-a771-8e691ea96e63",
        "colab": {
          "base_uri": "https://localhost:8080/"
        }
      },
      "execution_count": 17,
      "outputs": [
        {
          "output_type": "stream",
          "name": "stderr",
          "text": [
            "<ipython-input-14-b9ea3d59ddce>:16: RuntimeWarning: invalid value encountered in double_scalars\n",
            "  sim_cosine = product_sum/(math.sqrt(vsize_name1)*math.sqrt(vsize_name2))\n"
          ]
        },
        {
          "output_type": "stream",
          "name": "stdout",
          "text": [
            "119 4.55859129816381\n",
            "814 5.0\n",
            "1122 5.0\n",
            "1189 4.999999999999999\n",
            "1201 5.0\n",
            "1398 4.51657949952461\n",
            "1449 4.621546028074783\n",
            "1467 4.999999999999999\n",
            "1500 5.0\n",
            "1536 5.0\n",
            "1599 5.0\n"
          ]
        }
      ]
    },
    {
      "cell_type": "markdown",
      "source": [
        "### 안본영화중에서 119,814,1122번등의 영화를 추천하는 것을 볼 수 있다."
      ],
      "metadata": {
        "id": "xKNOgtjaksRA"
      }
    },
    {
      "cell_type": "markdown",
      "source": [
        "### 평가지표 구현하기\n",
        "- 구현하기 위해서 안본것도 전부 예측해서 점수를 채워넣은 완벽한 데이터 프레임이 필요\n",
        "- 안본 영화목록은 따로 저장해놓고 나중에 쓰자"
      ],
      "metadata": {
        "id": "xSa8zgBH-TMO"
      }
    },
    {
      "cell_type": "markdown",
      "source": [
        "한영화씩 빈 평점을 채운다고 하자\n",
        "반복문으로 한 사람씩 뽑음\n",
        "  그 사람의 영화 리스트를 다시 반복으로 돌다가 0점이 있으면 안본것이니 이를 예측 시작\n",
        "    그럼 다시 반복으로 다른 사람과의 \n"
      ],
      "metadata": {
        "id": "5pUESW7uLem8"
      }
    },
    {
      "cell_type": "code",
      "source": [
        "ratings_full = ratings.copy() "
      ],
      "metadata": {
        "id": "ydXv2ZlJL_Ah"
      },
      "execution_count": 18,
      "outputs": []
    },
    {
      "cell_type": "code",
      "source": [
        "def full(tt,people,max_movie=1682,max_reviewer = 943):\n",
        "  li_sc = []                          #예측해줄 사람에게 다른 사람과의 유사도를 저장할 리스트\n",
        "  li_sc.append(0)\n",
        "                                      \n",
        "  for i in range(1,943+1):             #먼저 여기서 기준이 되는 people과 다른 사람들과의 유사도를 구하고 li_sc에 저장한다.\n",
        "    li_sc.append((sim_cosine(ratings,people,i),i))\n",
        "\n",
        "\n",
        "  for i in range(1,max_movie+1):\n",
        "    if tt.loc[i,people] == 0:                            # 만약 영화 평점이 0이면 안 본 영화이니 이를 예측\n",
        "      sum_sc    = 0                                      # 영화 평점\n",
        "      weight_sc = 0                                      # 유사도 총합을 저장할 변수\n",
        "\n",
        "      for j in range(1,max_reviewer+1):\n",
        "        if tt.loc[i,j] > 0:                             # 만약 i번의 영화를 j번 리뷰자가 평가를 했다면\n",
        "          sum_sc    += tt.loc[i,j] * li_sc[j][0]      # 그 영화의 평점과 유사도를 곱해서 sum_sc에 더해놓음 이때 li_sc는 리스트이니 j번리뷰자는 j-1인덱스에 저장되니 j-1임\n",
        "          weight_sc += li_sc[j][0]                    # 유사도도 나중에 쓰려고 더해놓음\n",
        "      temp = sum_sc/weight_sc                       # temp에 예측된 평점을 저장해서 di에 i번영화주소에 할당함\n",
        "      ratings_full.loc[i,people] = temp\n",
        "\n"
      ],
      "metadata": {
        "id": "2DokP-4VJSTS"
      },
      "execution_count": 19,
      "outputs": []
    },
    {
      "cell_type": "code",
      "source": [
        "for i in range(1,10):\n",
        "\n",
        "  full(ratings,i)"
      ],
      "metadata": {
        "id": "_nXAG4ujM3la",
        "outputId": "2d23909c-eadf-4c08-da52-496bd2c33e2e",
        "colab": {
          "base_uri": "https://localhost:8080/"
        }
      },
      "execution_count": 21,
      "outputs": [
        {
          "output_type": "stream",
          "name": "stderr",
          "text": [
            "<ipython-input-14-b9ea3d59ddce>:16: RuntimeWarning: invalid value encountered in double_scalars\n",
            "  sim_cosine = product_sum/(math.sqrt(vsize_name1)*math.sqrt(vsize_name2))\n"
          ]
        }
      ]
    },
    {
      "cell_type": "code",
      "source": [
        "# 예측한 예측 영화 데이터 프레임 만들기\n",
        "# 사람이 943명이니 943번 반복해서 각 칼럼마다 0인 값이 있으면 예측하기"
      ],
      "metadata": {
        "id": "bK3Rjy9Z-e-X"
      },
      "execution_count": null,
      "outputs": []
    },
    {
      "cell_type": "markdown",
      "source": [
        "# model_based 시스템 with SVD"
      ],
      "metadata": {
        "id": "Dmp9J5SJchfa"
      }
    },
    {
      "cell_type": "code",
      "source": [
        "  import torch\n",
        "  import pandas as pd\n",
        "  import torch.nn.functional as F\n",
        "  import matplotlib.pyplot as plt"
      ],
      "metadata": {
        "id": "WtuxvhZbcltH"
      },
      "execution_count": null,
      "outputs": []
    },
    {
      "cell_type": "code",
      "source": [
        "df =pd.read_csv('/content/drive/MyDrive/ml-100k.csv')"
      ],
      "metadata": {
        "id": "T6HQQ7E_dBE-"
      },
      "execution_count": null,
      "outputs": []
    },
    {
      "cell_type": "code",
      "source": [
        "# Ignore  the warnings\n",
        "import warnings\n",
        "warnings.filterwarnings('always')\n",
        "warnings.filterwarnings('ignore')\n",
        "\n",
        "# Data visualisation and manipulation\n",
        "import numpy as np\n",
        "import pandas as pd\n",
        "import matplotlib.pyplot as plt\n",
        "from matplotlib import style\n",
        "import seaborn as sns\n",
        "\n",
        "import os\n",
        "from surprise import Dataset,Reader\n",
        "from collections import defaultdict\n",
        "\n",
        "#from reco_utils.common.general_utils import invert_dictionary\n",
        "\n",
        "# Accuracy \n",
        "import itertools\n",
        "from surprise import accuracy\n",
        "\n",
        "# Method to measure the accuracy of recommendation model\n",
        "from surprise.model_selection import train_test_split\n",
        "from surprise.model_selection import LeaveOneOut\n",
        "from surprise import KNNBaseline\n",
        "from operator import itemgetter\n",
        "import heapq\n",
        "\n",
        "# Predict\n",
        "from surprise import KNNBasic\n",
        "from surprise import SVD\n",
        "\n",
        "from surprise import KNNWithMeans"
      ],
      "metadata": {
        "id": "1nwauH8llTyx"
      },
      "execution_count": null,
      "outputs": []
    },
    {
      "cell_type": "code",
      "source": [
        "df.columns = (['userId','movieId','rating','timestamp']) #칼럼명을 바꿔줌"
      ],
      "metadata": {
        "id": "CG7B_SWmuoPA"
      },
      "execution_count": null,
      "outputs": []
    },
    {
      "cell_type": "code",
      "source": [
        "#그전에는 직접 만들었는데\n",
        "#pivot_table을 이용하면 된다는 것을 지금앎 ㅠㅠ\n",
        "\n",
        "util_df=pd.pivot_table(data=df,values='rating',index='userId',columns='movieId',aggfunc='mean',fill_value=0,)\n",
        "util_df"
      ],
      "metadata": {
        "colab": {
          "base_uri": "https://localhost:8080/",
          "height": 455
        },
        "id": "B7LdpYoVuvXO",
        "outputId": "74ebd6f2-8cf7-483c-cd21-14a942fb0192"
      },
      "execution_count": null,
      "outputs": [
        {
          "output_type": "execute_result",
          "data": {
            "text/plain": [
              "movieId  1     2     3     4     5     6     7     8     9     10    ...  \\\n",
              "userId                                                               ...   \n",
              "1           5     3     4     3     3     5     4     1     5     3  ...   \n",
              "2           4     0     0     0     0     0     0     0     0     2  ...   \n",
              "3           0     0     0     0     0     0     0     0     0     0  ...   \n",
              "4           0     0     0     0     0     0     0     0     0     0  ...   \n",
              "5           4     3     0     0     0     0     0     0     0     0  ...   \n",
              "...       ...   ...   ...   ...   ...   ...   ...   ...   ...   ...  ...   \n",
              "939         0     0     0     0     0     0     0     0     5     0  ...   \n",
              "940         0     0     0     2     0     0     4     5     3     0  ...   \n",
              "941         5     0     0     0     0     0     4     0     0     0  ...   \n",
              "942         0     0     0     0     0     0     0     0     0     0  ...   \n",
              "943         0     5     0     0     0     0     0     0     3     0  ...   \n",
              "\n",
              "movieId  1673  1674  1675  1676  1677  1678  1679  1680  1681  1682  \n",
              "userId                                                               \n",
              "1           0     0     0     0     0     0     0     0     0     0  \n",
              "2           0     0     0     0     0     0     0     0     0     0  \n",
              "3           0     0     0     0     0     0     0     0     0     0  \n",
              "4           0     0     0     0     0     0     0     0     0     0  \n",
              "5           0     0     0     0     0     0     0     0     0     0  \n",
              "...       ...   ...   ...   ...   ...   ...   ...   ...   ...   ...  \n",
              "939         0     0     0     0     0     0     0     0     0     0  \n",
              "940         0     0     0     0     0     0     0     0     0     0  \n",
              "941         0     0     0     0     0     0     0     0     0     0  \n",
              "942         0     0     0     0     0     0     0     0     0     0  \n",
              "943         0     0     0     0     0     0     0     0     0     0  \n",
              "\n",
              "[943 rows x 1682 columns]"
            ],
            "text/html": [
              "\n",
              "  <div id=\"df-4cc030e9-5634-434c-adc2-ca92db6abb85\">\n",
              "    <div class=\"colab-df-container\">\n",
              "      <div>\n",
              "<style scoped>\n",
              "    .dataframe tbody tr th:only-of-type {\n",
              "        vertical-align: middle;\n",
              "    }\n",
              "\n",
              "    .dataframe tbody tr th {\n",
              "        vertical-align: top;\n",
              "    }\n",
              "\n",
              "    .dataframe thead th {\n",
              "        text-align: right;\n",
              "    }\n",
              "</style>\n",
              "<table border=\"1\" class=\"dataframe\">\n",
              "  <thead>\n",
              "    <tr style=\"text-align: right;\">\n",
              "      <th>movieId</th>\n",
              "      <th>1</th>\n",
              "      <th>2</th>\n",
              "      <th>3</th>\n",
              "      <th>4</th>\n",
              "      <th>5</th>\n",
              "      <th>6</th>\n",
              "      <th>7</th>\n",
              "      <th>8</th>\n",
              "      <th>9</th>\n",
              "      <th>10</th>\n",
              "      <th>...</th>\n",
              "      <th>1673</th>\n",
              "      <th>1674</th>\n",
              "      <th>1675</th>\n",
              "      <th>1676</th>\n",
              "      <th>1677</th>\n",
              "      <th>1678</th>\n",
              "      <th>1679</th>\n",
              "      <th>1680</th>\n",
              "      <th>1681</th>\n",
              "      <th>1682</th>\n",
              "    </tr>\n",
              "    <tr>\n",
              "      <th>userId</th>\n",
              "      <th></th>\n",
              "      <th></th>\n",
              "      <th></th>\n",
              "      <th></th>\n",
              "      <th></th>\n",
              "      <th></th>\n",
              "      <th></th>\n",
              "      <th></th>\n",
              "      <th></th>\n",
              "      <th></th>\n",
              "      <th></th>\n",
              "      <th></th>\n",
              "      <th></th>\n",
              "      <th></th>\n",
              "      <th></th>\n",
              "      <th></th>\n",
              "      <th></th>\n",
              "      <th></th>\n",
              "      <th></th>\n",
              "      <th></th>\n",
              "      <th></th>\n",
              "    </tr>\n",
              "  </thead>\n",
              "  <tbody>\n",
              "    <tr>\n",
              "      <th>1</th>\n",
              "      <td>5</td>\n",
              "      <td>3</td>\n",
              "      <td>4</td>\n",
              "      <td>3</td>\n",
              "      <td>3</td>\n",
              "      <td>5</td>\n",
              "      <td>4</td>\n",
              "      <td>1</td>\n",
              "      <td>5</td>\n",
              "      <td>3</td>\n",
              "      <td>...</td>\n",
              "      <td>0</td>\n",
              "      <td>0</td>\n",
              "      <td>0</td>\n",
              "      <td>0</td>\n",
              "      <td>0</td>\n",
              "      <td>0</td>\n",
              "      <td>0</td>\n",
              "      <td>0</td>\n",
              "      <td>0</td>\n",
              "      <td>0</td>\n",
              "    </tr>\n",
              "    <tr>\n",
              "      <th>2</th>\n",
              "      <td>4</td>\n",
              "      <td>0</td>\n",
              "      <td>0</td>\n",
              "      <td>0</td>\n",
              "      <td>0</td>\n",
              "      <td>0</td>\n",
              "      <td>0</td>\n",
              "      <td>0</td>\n",
              "      <td>0</td>\n",
              "      <td>2</td>\n",
              "      <td>...</td>\n",
              "      <td>0</td>\n",
              "      <td>0</td>\n",
              "      <td>0</td>\n",
              "      <td>0</td>\n",
              "      <td>0</td>\n",
              "      <td>0</td>\n",
              "      <td>0</td>\n",
              "      <td>0</td>\n",
              "      <td>0</td>\n",
              "      <td>0</td>\n",
              "    </tr>\n",
              "    <tr>\n",
              "      <th>3</th>\n",
              "      <td>0</td>\n",
              "      <td>0</td>\n",
              "      <td>0</td>\n",
              "      <td>0</td>\n",
              "      <td>0</td>\n",
              "      <td>0</td>\n",
              "      <td>0</td>\n",
              "      <td>0</td>\n",
              "      <td>0</td>\n",
              "      <td>0</td>\n",
              "      <td>...</td>\n",
              "      <td>0</td>\n",
              "      <td>0</td>\n",
              "      <td>0</td>\n",
              "      <td>0</td>\n",
              "      <td>0</td>\n",
              "      <td>0</td>\n",
              "      <td>0</td>\n",
              "      <td>0</td>\n",
              "      <td>0</td>\n",
              "      <td>0</td>\n",
              "    </tr>\n",
              "    <tr>\n",
              "      <th>4</th>\n",
              "      <td>0</td>\n",
              "      <td>0</td>\n",
              "      <td>0</td>\n",
              "      <td>0</td>\n",
              "      <td>0</td>\n",
              "      <td>0</td>\n",
              "      <td>0</td>\n",
              "      <td>0</td>\n",
              "      <td>0</td>\n",
              "      <td>0</td>\n",
              "      <td>...</td>\n",
              "      <td>0</td>\n",
              "      <td>0</td>\n",
              "      <td>0</td>\n",
              "      <td>0</td>\n",
              "      <td>0</td>\n",
              "      <td>0</td>\n",
              "      <td>0</td>\n",
              "      <td>0</td>\n",
              "      <td>0</td>\n",
              "      <td>0</td>\n",
              "    </tr>\n",
              "    <tr>\n",
              "      <th>5</th>\n",
              "      <td>4</td>\n",
              "      <td>3</td>\n",
              "      <td>0</td>\n",
              "      <td>0</td>\n",
              "      <td>0</td>\n",
              "      <td>0</td>\n",
              "      <td>0</td>\n",
              "      <td>0</td>\n",
              "      <td>0</td>\n",
              "      <td>0</td>\n",
              "      <td>...</td>\n",
              "      <td>0</td>\n",
              "      <td>0</td>\n",
              "      <td>0</td>\n",
              "      <td>0</td>\n",
              "      <td>0</td>\n",
              "      <td>0</td>\n",
              "      <td>0</td>\n",
              "      <td>0</td>\n",
              "      <td>0</td>\n",
              "      <td>0</td>\n",
              "    </tr>\n",
              "    <tr>\n",
              "      <th>...</th>\n",
              "      <td>...</td>\n",
              "      <td>...</td>\n",
              "      <td>...</td>\n",
              "      <td>...</td>\n",
              "      <td>...</td>\n",
              "      <td>...</td>\n",
              "      <td>...</td>\n",
              "      <td>...</td>\n",
              "      <td>...</td>\n",
              "      <td>...</td>\n",
              "      <td>...</td>\n",
              "      <td>...</td>\n",
              "      <td>...</td>\n",
              "      <td>...</td>\n",
              "      <td>...</td>\n",
              "      <td>...</td>\n",
              "      <td>...</td>\n",
              "      <td>...</td>\n",
              "      <td>...</td>\n",
              "      <td>...</td>\n",
              "      <td>...</td>\n",
              "    </tr>\n",
              "    <tr>\n",
              "      <th>939</th>\n",
              "      <td>0</td>\n",
              "      <td>0</td>\n",
              "      <td>0</td>\n",
              "      <td>0</td>\n",
              "      <td>0</td>\n",
              "      <td>0</td>\n",
              "      <td>0</td>\n",
              "      <td>0</td>\n",
              "      <td>5</td>\n",
              "      <td>0</td>\n",
              "      <td>...</td>\n",
              "      <td>0</td>\n",
              "      <td>0</td>\n",
              "      <td>0</td>\n",
              "      <td>0</td>\n",
              "      <td>0</td>\n",
              "      <td>0</td>\n",
              "      <td>0</td>\n",
              "      <td>0</td>\n",
              "      <td>0</td>\n",
              "      <td>0</td>\n",
              "    </tr>\n",
              "    <tr>\n",
              "      <th>940</th>\n",
              "      <td>0</td>\n",
              "      <td>0</td>\n",
              "      <td>0</td>\n",
              "      <td>2</td>\n",
              "      <td>0</td>\n",
              "      <td>0</td>\n",
              "      <td>4</td>\n",
              "      <td>5</td>\n",
              "      <td>3</td>\n",
              "      <td>0</td>\n",
              "      <td>...</td>\n",
              "      <td>0</td>\n",
              "      <td>0</td>\n",
              "      <td>0</td>\n",
              "      <td>0</td>\n",
              "      <td>0</td>\n",
              "      <td>0</td>\n",
              "      <td>0</td>\n",
              "      <td>0</td>\n",
              "      <td>0</td>\n",
              "      <td>0</td>\n",
              "    </tr>\n",
              "    <tr>\n",
              "      <th>941</th>\n",
              "      <td>5</td>\n",
              "      <td>0</td>\n",
              "      <td>0</td>\n",
              "      <td>0</td>\n",
              "      <td>0</td>\n",
              "      <td>0</td>\n",
              "      <td>4</td>\n",
              "      <td>0</td>\n",
              "      <td>0</td>\n",
              "      <td>0</td>\n",
              "      <td>...</td>\n",
              "      <td>0</td>\n",
              "      <td>0</td>\n",
              "      <td>0</td>\n",
              "      <td>0</td>\n",
              "      <td>0</td>\n",
              "      <td>0</td>\n",
              "      <td>0</td>\n",
              "      <td>0</td>\n",
              "      <td>0</td>\n",
              "      <td>0</td>\n",
              "    </tr>\n",
              "    <tr>\n",
              "      <th>942</th>\n",
              "      <td>0</td>\n",
              "      <td>0</td>\n",
              "      <td>0</td>\n",
              "      <td>0</td>\n",
              "      <td>0</td>\n",
              "      <td>0</td>\n",
              "      <td>0</td>\n",
              "      <td>0</td>\n",
              "      <td>0</td>\n",
              "      <td>0</td>\n",
              "      <td>...</td>\n",
              "      <td>0</td>\n",
              "      <td>0</td>\n",
              "      <td>0</td>\n",
              "      <td>0</td>\n",
              "      <td>0</td>\n",
              "      <td>0</td>\n",
              "      <td>0</td>\n",
              "      <td>0</td>\n",
              "      <td>0</td>\n",
              "      <td>0</td>\n",
              "    </tr>\n",
              "    <tr>\n",
              "      <th>943</th>\n",
              "      <td>0</td>\n",
              "      <td>5</td>\n",
              "      <td>0</td>\n",
              "      <td>0</td>\n",
              "      <td>0</td>\n",
              "      <td>0</td>\n",
              "      <td>0</td>\n",
              "      <td>0</td>\n",
              "      <td>3</td>\n",
              "      <td>0</td>\n",
              "      <td>...</td>\n",
              "      <td>0</td>\n",
              "      <td>0</td>\n",
              "      <td>0</td>\n",
              "      <td>0</td>\n",
              "      <td>0</td>\n",
              "      <td>0</td>\n",
              "      <td>0</td>\n",
              "      <td>0</td>\n",
              "      <td>0</td>\n",
              "      <td>0</td>\n",
              "    </tr>\n",
              "  </tbody>\n",
              "</table>\n",
              "<p>943 rows × 1682 columns</p>\n",
              "</div>\n",
              "      <button class=\"colab-df-convert\" onclick=\"convertToInteractive('df-4cc030e9-5634-434c-adc2-ca92db6abb85')\"\n",
              "              title=\"Convert this dataframe to an interactive table.\"\n",
              "              style=\"display:none;\">\n",
              "        \n",
              "  <svg xmlns=\"http://www.w3.org/2000/svg\" height=\"24px\"viewBox=\"0 0 24 24\"\n",
              "       width=\"24px\">\n",
              "    <path d=\"M0 0h24v24H0V0z\" fill=\"none\"/>\n",
              "    <path d=\"M18.56 5.44l.94 2.06.94-2.06 2.06-.94-2.06-.94-.94-2.06-.94 2.06-2.06.94zm-11 1L8.5 8.5l.94-2.06 2.06-.94-2.06-.94L8.5 2.5l-.94 2.06-2.06.94zm10 10l.94 2.06.94-2.06 2.06-.94-2.06-.94-.94-2.06-.94 2.06-2.06.94z\"/><path d=\"M17.41 7.96l-1.37-1.37c-.4-.4-.92-.59-1.43-.59-.52 0-1.04.2-1.43.59L10.3 9.45l-7.72 7.72c-.78.78-.78 2.05 0 2.83L4 21.41c.39.39.9.59 1.41.59.51 0 1.02-.2 1.41-.59l7.78-7.78 2.81-2.81c.8-.78.8-2.07 0-2.86zM5.41 20L4 18.59l7.72-7.72 1.47 1.35L5.41 20z\"/>\n",
              "  </svg>\n",
              "      </button>\n",
              "      \n",
              "  <style>\n",
              "    .colab-df-container {\n",
              "      display:flex;\n",
              "      flex-wrap:wrap;\n",
              "      gap: 12px;\n",
              "    }\n",
              "\n",
              "    .colab-df-convert {\n",
              "      background-color: #E8F0FE;\n",
              "      border: none;\n",
              "      border-radius: 50%;\n",
              "      cursor: pointer;\n",
              "      display: none;\n",
              "      fill: #1967D2;\n",
              "      height: 32px;\n",
              "      padding: 0 0 0 0;\n",
              "      width: 32px;\n",
              "    }\n",
              "\n",
              "    .colab-df-convert:hover {\n",
              "      background-color: #E2EBFA;\n",
              "      box-shadow: 0px 1px 2px rgba(60, 64, 67, 0.3), 0px 1px 3px 1px rgba(60, 64, 67, 0.15);\n",
              "      fill: #174EA6;\n",
              "    }\n",
              "\n",
              "    [theme=dark] .colab-df-convert {\n",
              "      background-color: #3B4455;\n",
              "      fill: #D2E3FC;\n",
              "    }\n",
              "\n",
              "    [theme=dark] .colab-df-convert:hover {\n",
              "      background-color: #434B5C;\n",
              "      box-shadow: 0px 1px 3px 1px rgba(0, 0, 0, 0.15);\n",
              "      filter: drop-shadow(0px 1px 2px rgba(0, 0, 0, 0.3));\n",
              "      fill: #FFFFFF;\n",
              "    }\n",
              "  </style>\n",
              "\n",
              "      <script>\n",
              "        const buttonEl =\n",
              "          document.querySelector('#df-4cc030e9-5634-434c-adc2-ca92db6abb85 button.colab-df-convert');\n",
              "        buttonEl.style.display =\n",
              "          google.colab.kernel.accessAllowed ? 'block' : 'none';\n",
              "\n",
              "        async function convertToInteractive(key) {\n",
              "          const element = document.querySelector('#df-4cc030e9-5634-434c-adc2-ca92db6abb85');\n",
              "          const dataTable =\n",
              "            await google.colab.kernel.invokeFunction('convertToInteractive',\n",
              "                                                     [key], {});\n",
              "          if (!dataTable) return;\n",
              "\n",
              "          const docLinkHtml = 'Like what you see? Visit the ' +\n",
              "            '<a target=\"_blank\" href=https://colab.research.google.com/notebooks/data_table.ipynb>data table notebook</a>'\n",
              "            + ' to learn more about interactive tables.';\n",
              "          element.innerHTML = '';\n",
              "          dataTable['output_type'] = 'display_data';\n",
              "          await google.colab.output.renderOutput(dataTable, element);\n",
              "          const docLink = document.createElement('div');\n",
              "          docLink.innerHTML = docLinkHtml;\n",
              "          element.appendChild(docLink);\n",
              "        }\n",
              "      </script>\n",
              "    </div>\n",
              "  </div>\n",
              "  "
            ]
          },
          "metadata": {},
          "execution_count": 69
        }
      ]
    },
    {
      "cell_type": "code",
      "source": [
        "'''\n",
        "유저당 안본 영화들의 리스트를 작성함\n",
        "안본 영화들의 인덱스를 하나씩 뽑아서 사람이름,영화이름 이렇게 리스트에 넣어줌\n",
        "'''\n",
        "\n",
        "testUnwatched = list()\n",
        "items = util_df.columns\n",
        "for item in items:\n",
        "    users = util_df.loc[util_df[item] == 0].index\n",
        "    for user in users:\n",
        "        testUnwatched.append((str(user),str(item),0))   "
      ],
      "metadata": {
        "id": "5gGQDqidvB9b"
      },
      "execution_count": null,
      "outputs": []
    },
    {
      "cell_type": "code",
      "source": [
        "#305영화에 대한 유저들의 평가\n",
        "temp305 = util_df[305]"
      ],
      "metadata": {
        "id": "icPBq2QQt11B"
      },
      "execution_count": null,
      "outputs": []
    },
    {
      "cell_type": "code",
      "source": [
        "#데이터를 뽑아놓기\n",
        "#이때 anti_testset은 데이터중에서 평가가 안된데이터를 지칭함\n",
        "\n",
        "data = Dataset.load_builtin('ml-100k')\n",
        "fullTrainSet = data.build_full_trainset()\n",
        "fullAntiTestSet = fullTrainSet.build_anti_testset()\n",
        "trainSet, testSet = train_test_split(data, test_size=.25, random_state=1)"
      ],
      "metadata": {
        "id": "WkOSIeuVnE02"
      },
      "execution_count": null,
      "outputs": []
    },
    {
      "cell_type": "code",
      "source": [
        "# 안본 영화의 리스트를 만드는 함수\n",
        "# 반복문으로 안본 영화의 경우 리스트에 넣어줌\n",
        "\n",
        "def GetAntiTestSetForUser(testSubject='305'):\n",
        "    trainset = fullTrainSet\n",
        "    fill = trainset.global_mean\n",
        "    anti_testset = []\n",
        "    u = trainset.to_inner_uid(testSubject)\n",
        "    user_items = set([j for (j, _) in trainset.ur[u]])\n",
        "    anti_testset += [(trainset.to_raw_uid(u), trainset.to_raw_iid(i), fill) for\n",
        "                             i in trainset.all_items() if\n",
        "                             i not in user_items]\n",
        "    return anti_testset"
      ],
      "metadata": {
        "id": "rAWN6QedouwD"
      },
      "execution_count": null,
      "outputs": []
    },
    {
      "cell_type": "code",
      "source": [
        "# SVD로 행렬분해를 함\n",
        "# 이떄 위에서 만든 아직 평가가 안도니 testUnwatched로 prediction을 만들어 놓음\n",
        "# 얘도 연습임 생략함\n",
        "\n",
        "# alg = SVD()\n",
        "# alg.fit(fullTrainSet)\n",
        "# predictions = alg.test(testUnwatched)\n",
        "# predictions = pd.DataFrame(predictions)\n",
        "# allPredictions = alg.test(fullAntiTestSet)\n"
      ],
      "metadata": {
        "id": "SI50BEdetb96"
      },
      "execution_count": null,
      "outputs": []
    },
    {
      "cell_type": "code",
      "source": [
        "#얘는 생략\n",
        "\n",
        "# temp0 = pd.DataFrame(predictions)\n",
        "# temp0 = temp0[['uid','iid','est']]\n",
        "# temp0.rename(columns={'uid':'userId', 'iid':'movieId', 'est':'rating'}, inplace=True)\n",
        "# temp0 = temp0.astype('int32')"
      ],
      "metadata": {
        "id": "acgIm4BQulyu"
      },
      "execution_count": null,
      "outputs": []
    },
    {
      "cell_type": "code",
      "source": [
        "# 영화의 이름을 불러오기 위해서 가져옴\n",
        "\n",
        "df_item = pd.read_csv('/content/u.item',encoding = 'cp1252',sep = '|',header = None)"
      ],
      "metadata": {
        "id": "bzvYQrzjw-Mc"
      },
      "execution_count": null,
      "outputs": []
    },
    {
      "cell_type": "code",
      "source": [
        "#영화id를 넣으면 영화 이름을 리턴하는 함수\n",
        "\n",
        "def getMovieName(movieID):\n",
        "    return df_item.loc[movieID,1]"
      ],
      "metadata": {
        "id": "y3EdHmE6wye5"
      },
      "execution_count": null,
      "outputs": []
    },
    {
      "cell_type": "markdown",
      "source": [
        "### svd를 이용해서 영화 추천하기"
      ],
      "metadata": {
        "id": "EQcQNi3db2uD"
      }
    },
    {
      "cell_type": "code",
      "source": [
        "# svd로 모델 만들어서 추천하는 함수\n",
        "alg = SVD()\n",
        "alg.fit(fullTrainSet) #모든 영화데이터프레임을 fit함\n",
        "\n",
        "                      \n",
        "predictions = alg.test(GetAntiTestSetForUser())  # 안본 영화를 alg에 넣어서 test진행해서 예측함\n",
        "                      \n",
        "\n",
        "recommendations = []\n",
        "\n",
        "print (\"\\nWe recommend:\")\n",
        "for userID, movieID, actualRating, estimatedRating, _ in predictions: #위에 예측에서 실제 영화 평점과 추정치를 뽑음 \n",
        "    intMovieID = int(movieID)\n",
        "    recommendations.append((intMovieID, estimatedRating))             #추정치를 뽑아서 추천리스트에 넣어줌\n",
        "\n",
        "recommendations.sort(key=lambda x: x[1], reverse=True)\n",
        "\n",
        "for ratings in recommendations[:10]:\n",
        "    print(getMovieName(ratings[0]), ratings[1])                       # 상위 10개의 영화리스트를 출력함"
      ],
      "metadata": {
        "colab": {
          "base_uri": "https://localhost:8080/"
        },
        "id": "17mhjLjCwYg_",
        "outputId": "a6b40999-7f0a-470e-ecd8-d6a37a2d4e60"
      },
      "execution_count": null,
      "outputs": [
        {
          "output_type": "stream",
          "name": "stdout",
          "text": [
            "\n",
            "We recommend:\n",
            "Quiz Show (1994) 4.4345918832071884\n",
            "It Happened One Night (1934) 4.235660635561837\n",
            "Highlander (1986) 4.219529933371378\n",
            "Local Hero (1983) 4.170552040416831\n",
            "Rebecca (1940) 4.143788198219241\n",
            "3 Ninjas: High Noon At Mega Mountain (1998) 4.062857243552181\n",
            "Two if by Sea (1996) 4.057671886532606\n",
            "Home Alone (1990) 4.044970532403845\n",
            "Manhattan (1979) 4.037360726476629\n",
            "Old Man and the Sea, The (1958) 4.033683624319369\n"
          ]
        }
      ]
    }
  ]
}